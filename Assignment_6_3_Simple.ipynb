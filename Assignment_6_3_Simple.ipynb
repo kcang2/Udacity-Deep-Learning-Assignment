{
 "cells": [
  {
   "cell_type": "code",
   "execution_count": 1,
   "metadata": {},
   "outputs": [],
   "source": [
    "from __future__ import print_function\n",
    "import numpy as np\n",
    "import random\n",
    "import os\n",
    "import string\n",
    "import zipfile\n",
    "import tensorflow as tf\n",
    "import sys\n",
    "from six.moves import range\n",
    "from tensorflow.contrib.rnn import LSTMCell, GRUCell\n",
    "import tensorflow.contrib.seq2seq as Seq2Seq"
   ]
  },
  {
   "cell_type": "code",
   "execution_count": 2,
   "metadata": {},
   "outputs": [
    {
     "name": "stdout",
     "output_type": "stream",
     "text": [
      "Found and verified text8.zip\n"
     ]
    }
   ],
   "source": [
    "url = 'http://mattmahoney.net/dc/'\n",
    "\n",
    "def maybe_download(filename, expected_bytes):\n",
    "  \"\"\"Download a file if not present, and make sure it's the right size.\"\"\"\n",
    "  if not os.path.exists(filename):\n",
    "    filename, _ = urlretrieve(url + filename, filename)\n",
    "  statinfo = os.stat(filename)\n",
    "  if statinfo.st_size == expected_bytes:\n",
    "    print('Found and verified %s' % filename)\n",
    "  else:\n",
    "    print(statinfo.st_size)\n",
    "    raise Exception(\n",
    "      'Failed to verify ' + filename + '. Can you get to it with a browser?')\n",
    "  return filename\n",
    "\n",
    "filename = maybe_download('text8.zip', 31344016)"
   ]
  },
  {
   "cell_type": "code",
   "execution_count": 3,
   "metadata": {},
   "outputs": [
    {
     "name": "stdout",
     "output_type": "stream",
     "text": [
      "Data size 100000000\n"
     ]
    }
   ],
   "source": [
    "def read_data(filename):\n",
    "  with zipfile.ZipFile(filename) as f:\n",
    "    name = f.namelist()[0]\n",
    "    data = tf.compat.as_str(f.read(name))\n",
    "  return data\n",
    "  \n",
    "text = read_data(filename)\n",
    "print('Data size %d' % len(text))"
   ]
  },
  {
   "cell_type": "code",
   "execution_count": 4,
   "metadata": {},
   "outputs": [
    {
     "name": "stdout",
     "output_type": "stream",
     "text": [
      "99999000 ons anarchists advocate social relations based upon voluntary as\n",
      "1000  anarchism originated as a term of abuse first used against earl\n"
     ]
    }
   ],
   "source": [
    "valid_size = 1000\n",
    "valid_text = text[:valid_size]\n",
    "train_text = text[valid_size:]\n",
    "train_size = len(train_text)\n",
    "print(train_size, train_text[:64])\n",
    "print(valid_size, valid_text[:64])\n"
   ]
  },
  {
   "cell_type": "code",
   "execution_count": 5,
   "metadata": {},
   "outputs": [
    {
     "name": "stdout",
     "output_type": "stream",
     "text": [
      "Unexpected character: ï\n",
      "1 26 27 0\n",
      "a z _\n"
     ]
    }
   ],
   "source": [
    "vocabulary_size = len(string.ascii_lowercase) + 2 # [a-z] + ' ' + '_' (padding)\n",
    "first_letter = ord(string.ascii_lowercase[0])\n",
    "\n",
    "def char2id(char):\n",
    "  if char in string.ascii_lowercase:\n",
    "    return ord(char) - first_letter + 1\n",
    "  elif char == ' ':\n",
    "    return 27\n",
    "  else:\n",
    "    print('Unexpected character: %s' % char)\n",
    "    return 0\n",
    "  \n",
    "def id2char(dictid):\n",
    "  if dictid==27:\n",
    "    return ' '\n",
    "  if dictid > 0:\n",
    "    return chr(dictid + first_letter - 1)\n",
    "  else:\n",
    "    return '_'\n",
    "\n",
    "print(char2id('a'), char2id('z'), char2id(' '), char2id('ï'))\n",
    "print(id2char(1), id2char(26), id2char(0))"
   ]
  },
  {
   "cell_type": "code",
   "execution_count": 6,
   "metadata": {},
   "outputs": [
    {
     "name": "stdout",
     "output_type": "stream",
     "text": [
      "['ons anarchists advocate_______', 'her novels to_________________', 'alc cer do____________________', 'eight zero and________________', 'they were seen________________', 'a combo amplifier_____________', 'a game against________________', 'for the practiced_____________', 'nitrogen dioxide sulfur_______', 'heat engine acts______________', 'way the shoemakers____________', 'zero zloty coin_______________', 'illustration to don___________', 'by his second_________________', 'used credit card______________', 'one two seven_________________', 'drupelets because each________', 'paul jones one________________', 'organization inmarsat interpol', 'people foreign support________', 'the horror writers____________', 'of ireland string_____________', 'connectivity at all___________', 'one day each__________________', 'one p v_______________________', 'by the loss___________________', 'groom at a____________________', 'charles taylor accepted_______', 'nine seven zero_______________', 'throughout most of____________', 'and paralyzes alabama_________', 'to have a_____________________']\n",
      "['msihcrana detanigiro sa_______']\n"
     ]
    }
   ],
   "source": [
    "batch_size=32 # number of sentences (axis=1 of batch array) \n",
    "num_unrollings=3 # number of words\n",
    "maxlen = 30 # 30 characters at most. pad with 0 '_'\n",
    "\n",
    "class BatchGenerator(object):\n",
    "  def __init__(self, text, batch_size, num_unrollings):\n",
    "    self._text = text\n",
    "    self._words = text.split()\n",
    "    self._num_words = len(self._words)\n",
    "    self._batch_size = batch_size\n",
    "    self._num_unrollings = num_unrollings\n",
    "    segment = self._num_words // batch_size # larger than num_unrollings, to prevent getting same phrases in different... \n",
    "    # sentences, however the code does not assert so\n",
    "    self._cursor = [ offset * segment for offset in range(batch_size)] # each batch/sentence has its own cursor, positioned...\n",
    "    # \"segment\" indices away\n",
    "  \n",
    "  def _next_batch(self):\n",
    "    \"\"\"Generate a single batch from the current cursor position in the data.\"\"\"\n",
    "    \n",
    "    batches = np.zeros(shape=[maxlen,self._batch_size],dtype=np.int32)\n",
    "    seqlen = list()\n",
    "    labels = np.zeros(shape=[maxlen,self._batch_size],dtype=np.int32)\n",
    "    for b in range(self._batch_size):\n",
    "      s = list()\n",
    "      l = list()\n",
    "      for x in range(num_unrollings):\n",
    "        w = self._words[self._cursor[b]]  \n",
    "        s.extend([char2id(i) for i in w])\n",
    "        l.extend([char2id(i) for i in reversed(w)])\n",
    "        if x < num_unrollings-1:\n",
    "          s.extend([27])\n",
    "          l.extend([27])\n",
    "        self._cursor[b] = (self._cursor[b] + 1) % self._num_words # move a cursor of a sentence/batch to next char...\n",
    "      seqlen.extend([len(s)])\n",
    "      while len(s)<maxlen:\n",
    "        s.extend([0])\n",
    "        l.extend([0])\n",
    "      if(len(s)>maxlen):\n",
    "        s=s[:maxlen]\n",
    "        l=l[:maxlen]\n",
    "        seqlen[-1]=maxlen\n",
    "      batches[:,b]=s\n",
    "      labels[:,b]=l\n",
    "    return batches,seqlen,labels\n",
    "\n",
    "\n",
    "def characters(probabilities):\n",
    "  \"\"\"Turn a 1-hot encoding or a probability distribution over the possible\n",
    "  characters back into its (most likely) character representation.\"\"\"\n",
    "  return [id2char(c) for c in np.argmax(probabilities, 1)]\n",
    "\n",
    "\n",
    "def batches2string(batches):\n",
    "  #Convert a batch double-list to their string representation.\n",
    "  S = list()\n",
    "  for i in range(batches.shape[1]):\n",
    "    s=''\n",
    "    for j in range(maxlen):\n",
    "      s = s + id2char(batches[j,i])\n",
    "    S.append(s)\n",
    "  return S\n",
    "            \n",
    "def labels2string(labels):\n",
    "  #Convert a batch double-list to their string representation.\n",
    "  S = list()\n",
    "  for i in labels:\n",
    "    s=''\n",
    "    for j in i:\n",
    "      s = s + id2char(j)\n",
    "    S.append(s)\n",
    "  return S\n",
    "\n",
    "train_batches = BatchGenerator(train_text, batch_size, num_unrollings) \n",
    "valid_batches = BatchGenerator(valid_text, 1, num_unrollings)\n",
    "\n",
    "print(batches2string(train_batches._next_batch()[0]))\n",
    "#print(train_batches._next_batch()[1])\n",
    "print(batches2string(valid_batches._next_batch()[2]))"
   ]
  },
  {
   "cell_type": "code",
   "execution_count": 8,
   "metadata": {},
   "outputs": [],
   "source": [
    "tf.reset_default_graph()\n",
    "sess = tf.InteractiveSession()"
   ]
  },
  {
   "cell_type": "code",
   "execution_count": 10,
   "metadata": {},
   "outputs": [],
   "source": [
    "encoder_inputs = tf.placeholder(shape=(None, None), dtype=tf.int32, name='encoder_inputs')\n",
    "decoder_targets = tf.placeholder(shape=(None, None), dtype=tf.int32, name='decoder_targets')\n",
    "decoder_inputs = tf.placeholder(shape=(None, None), dtype=tf.int32, name='decoder_inputs')"
   ]
  },
  {
   "cell_type": "code",
   "execution_count": 13,
   "metadata": {},
   "outputs": [],
   "source": [
    "embedding_size=128\n",
    "encoder_embeddings = tf.Variable(tf.random_uniform([vocabulary_size, embedding_size], -1.0, 1.0), dtype=tf.float32)\n",
    "decoder_embeddings = tf.Variable(tf.random_uniform([vocabulary_size, embedding_size], -1.0, 1.0), dtype=tf.float32)"
   ]
  },
  {
   "cell_type": "code",
   "execution_count": 14,
   "metadata": {},
   "outputs": [],
   "source": [
    "encoder_inputs_embedded = tf.nn.embedding_lookup(encoder_embeddings, encoder_inputs)\n",
    "decoder_inputs_embedded = tf.nn.embedding_lookup(decoder_embeddings, decoder_inputs)"
   ]
  },
  {
   "cell_type": "code",
   "execution_count": 16,
   "metadata": {},
   "outputs": [],
   "source": [
    "num_nodes = 64\n",
    "encoder_cell = tf.contrib.rnn.LSTMCell(num_nodes)\n",
    "encoder_outputs, encoder_final_state = tf.nn.dynamic_rnn(\n",
    "    encoder_cell, encoder_inputs_embedded,\n",
    "    dtype=tf.float32, time_major=True,\n",
    ")\n",
    "\n",
    "del encoder_outputs"
   ]
  },
  {
   "cell_type": "code",
   "execution_count": 17,
   "metadata": {},
   "outputs": [
    {
     "data": {
      "text/plain": [
       "LSTMStateTuple(c=<tf.Tensor 'rnn/while/Exit_3:0' shape=(?, 64) dtype=float32>, h=<tf.Tensor 'rnn/while/Exit_4:0' shape=(?, 64) dtype=float32>)"
      ]
     },
     "execution_count": 17,
     "metadata": {},
     "output_type": "execute_result"
    }
   ],
   "source": [
    "encoder_final_state"
   ]
  },
  {
   "cell_type": "code",
   "execution_count": 18,
   "metadata": {},
   "outputs": [],
   "source": [
    "decoder_cell = tf.contrib.rnn.LSTMCell(num_nodes)\n",
    "\n",
    "decoder_outputs, decoder_final_state = tf.nn.dynamic_rnn(\n",
    "    decoder_cell, decoder_inputs_embedded,\n",
    "\n",
    "    initial_state=encoder_final_state,\n",
    "\n",
    "    dtype=tf.float32, time_major=True, scope=\"plain_decoder\",\n",
    ")"
   ]
  },
  {
   "cell_type": "code",
   "execution_count": 19,
   "metadata": {},
   "outputs": [],
   "source": [
    "decoder_logits = tf.contrib.layers.linear(decoder_outputs, vocabulary_size)\n",
    "\n",
    "decoder_prediction = tf.argmax(decoder_logits, 2)"
   ]
  },
  {
   "cell_type": "code",
   "execution_count": 20,
   "metadata": {},
   "outputs": [
    {
     "data": {
      "text/plain": [
       "<tf.Tensor 'fully_connected/BiasAdd:0' shape=(?, ?, 28) dtype=float32>"
      ]
     },
     "execution_count": 20,
     "metadata": {},
     "output_type": "execute_result"
    }
   ],
   "source": [
    "decoder_logits"
   ]
  },
  {
   "cell_type": "code",
   "execution_count": 22,
   "metadata": {},
   "outputs": [
    {
     "name": "stdout",
     "output_type": "stream",
     "text": [
      "WARNING:tensorflow:From <ipython-input-22-5f2ec28bdb49>:3: softmax_cross_entropy_with_logits (from tensorflow.python.ops.nn_ops) is deprecated and will be removed in a future version.\n",
      "Instructions for updating:\n",
      "\n",
      "Future major versions of TensorFlow will allow gradients to flow\n",
      "into the labels input on backprop by default.\n",
      "\n",
      "See @{tf.nn.softmax_cross_entropy_with_logits_v2}.\n",
      "\n"
     ]
    }
   ],
   "source": [
    "stepwise_cross_entropy = tf.nn.softmax_cross_entropy_with_logits(\n",
    "    labels=tf.one_hot(decoder_targets, depth=vocabulary_size, dtype=tf.float32),\n",
    "    logits=decoder_logits,\n",
    ")\n",
    "\n",
    "loss = tf.reduce_mean(stepwise_cross_entropy)\n",
    "train_op = tf.train.AdamOptimizer().minimize(loss)"
   ]
  },
  {
   "cell_type": "code",
   "execution_count": 23,
   "metadata": {},
   "outputs": [],
   "source": [
    "sess.run(tf.global_variables_initializer())"
   ]
  },
  {
   "cell_type": "code",
   "execution_count": 25,
   "metadata": {},
   "outputs": [
    {
     "name": "stdout",
     "output_type": "stream",
     "text": [
      "3.1417096\n",
      "['eeeeelvdxlppveeeetutggll______', '     lllvlllglzllzyzzl________', 'eeevxvv xdjjjj________________', 'rrrerrexxpyyeyr_______________', '  vvqvqqq vccee_______________', 'rtvttrnrx glgdfgll____________', ' ree    qfvvpvvp vqevol_______', 'erreeexa t  rldd yyjj_________', 'eeeevvvevevvaaellll___________', 'eevrrxaa fbxlbmvveaex ________', 'eereeen mvvvlll_______________', 'er v ryvvvgggl________________', 'r e   njnnv  evnnxiax_________', 'rrllrlvqlllppvlllll___________', 'rrrraaafatxkxdpmjj____________', 're ee rdj xpxjjjjj____________', ' xv   evvvj___________________', 'rrrrletqdtaxrrrll_____________', 'reeaddppjjpjjjjjjj____________', 'rrveryvpppzajjj_______________', 'rreyvveylllvqtvyxvtdnmjjj_____', ' errrr mmmppeyyvuvvvqg________', 'rreevvapaapfvsss______________', 'ee eeeqvtvl___________________', 'eereevavsvjvaj dnppoj_________', 'rrrrt tlvvvppaabbbbbbb________', 'erexxugxggllgdduupjpppeee lll_', 'rrvrreeenvp  flll_____________', 'rret rapfppvll________________', 'rreeeavrrpddddpzajjj__________', 'eeraetttje_ed _j   eeevvjjl___', ' rlv tetaaa es________________']\n",
      "2.9411025\n",
      "['eexxxeaqvsrednjxupyuvyydlll___', 'eeeeeeevvvvvv_________________', 'e eeerrjxrrrl_________________', 'e eerrpxpnyypzzyyg____________', 'eerrrreexglppupumvmm__________', 'eee   e nll xjj_______________', 'eee   v    ___________________', 'eeeeereeeggeeeevvdz___________', 'e e lpaaxuapapeevvj___________', 'eeeea  pppff__________________', 'oee ee tptjapdaaxux___________', 'eeeeea t etvvl________________', 'ereeerreeeappz________________', 'eeeeeovapvvvvvv_______________', 'eeeovvollvvvpvyyvvvvyyv_______', 'reeeee teteeut________________', 'eeeee  x pgpggtflmmmm_________', 'ereerrrrlg rexx_______________', 'ereorlxlltabbddmpvvvj_________', 'eeeta  teelppxxxlgll__________', 'ereooeessxeyyvuznmyyeee_______', ' eeeeeexypp  vp   tf__________', 'ee   evvvqev__________________', 'eererup rd   _________________', 'eeeeeoeppaaajvaxnj____________', 'eotto t eppppppgxatmue________', 'eeeee eeyexudjzj______________', 'ee  va eexxppg________________', 'eeerevfvvvffeeexej____________', 'eeeee vp   mmjj_______________', 'eeeeeve veeevvvvv_____________', 'e ee vvvpal___________________']\n",
      "2.727795\n",
      "['eeeetlddxduujjjevlgpnnnxn_____', 'eeeeeevvvvvexu________________', 'eee    e  nnddddddz___________', 'eeeee xapxptpuauxu____________', 'oeeetxbxlpgugggpgaxupuueulue__', 'eeeeeeex  xxxxv_______________', 'eeeeeeexdpeeeevuu_____________', 'eeeeeee oeeefa________________', 'oeeeeeeaapappvv_______________', 'eeeeeeeepjj___________________', 'eeoeeaee pvuddddxp____________', 'eeeee mvpp e__________________', 'eeeeeexxeyvvmmmeeevuu_________', 'ee    xxxggm__________________', 'eeeeeeteeee  jjvv_____________', 'eeeeeee xpap  p ______________', 'eeeee e ee mm   e_____________', 'e eeee vpanvaz________________', 'eeeeetolvpfglp  dl____________', 'eeeeefoemvpdjjv_______________', 'eeereeeeeeeegavfvvvvj_________', 'eeeee e    mumu_______________', ' eefmerexvvvvvxlvyvve u_______', 'ee ee    vyxna________________', 'oee evpp e____________________', 'eeeeerrpnyajxn________________', 'oeeeeeopxpp ru________________', 'oeoeeetl_j_xxeeenv____________', 'eeeereeeeeevyumu______________', 'eee e vua_____________________', 'eeereeexxndddmv  _____________', 'eeeeo  va yy__________________']\n",
      "2.4606009\n",
      "['eeee    nnvgxi________________', 'eeeoe  aaaaa e________________', 'eeeee eadjnn__________________', 'eeeoeeeexx uv_________________', 'eeeeeeeeeexerxsysuy___________', 'ee      xppv__________________', 'eeeeee    ____________________', 'oeeeoooovaxxxv________________', 'eeeol  meeeccddxdpyuulldd_____', 'eeee exexeeeea________________', 'eeeeeooiauujjup_______________', 'eeeeee mv p qs________________', 'eeoeeee u njnn________________', 'eeeoooeeeuppppz_______________', 'oeeeoee tvvav_________________', 'eee exapayue  mev_____________', 'eeee        n  _______________', 'eeeee evllaaaxa_______________', 'eeo  r xqmssk_________________', 'eeeeeeee  evqe________________', 'eeeeerexxexex_________________', 'eeoe  eyyv yy_________________', 'ee ee  rnna xx________________', 'eeeeeeveappvy _g______________', 'eeeee  ata xx_________________', 'eoee  exeyvmmvvvuu____________', 'eeeeeeeeelete txl_____________', 'eeeee  e _____________________', 'eeeeeef xyaaaaaa______________', 'oooeoen rapdpa________________', 'eoeeee eemmegevuegp xu________', 'e eooo  eea  t _______________']\n",
      "2.4763906\n",
      "['eeee e ooooeeuejeeeel_________', 'eoee   rnappv yevlvp__________', 'eeee  e   vvvvv   vvvvvys_____', 'oooeeeeeexex__________________', 'ee ee ooexeaaajeelvl__________', 'eeeeeoeuexeovov   ld__________', 'eeeeee xdpuvvappbdppyxryy_____', 'eeoee  r    j_________________', 'ee eeeeeeeeeeee  vllllp_______', 'ee eo oooxxp__________________', 'eeeoe eoupaex p xx____________', 'eeee e  eggllaxpal____________', 'eeeeeexxeeeexujuuxue__________', 'eeeee e llp  dd  _____________', 'eeeeeeee   vvvemdu____________', 'eeee     u eeeee______________', 'eee    a  lapv________________', 'eoeeeee ee eeexxxsvmmmv_______', 'eeeeoo etpxxjpgg______________', 'eeoeeeeemmv upvrpvkpzl________', 'oee ee     _ _________________', 'eeeeee e     vvl______________', 'eeeeeeexxuyxee________________', 'eeoereeememegummeeeeetttvee___', 'eeeoee mv  v__________________', 'ee     e  je ll_______________', ' e         ___________________', ' e      vveeupxpvx____________', '  ee eee______________________', 'ee        jevppp______________', 'eeeoeeeeeeeeeeee______________', 'ee ee eeane y x re____________']\n",
      "2.2984095\n",
      "['eeeee  oo vvvvvvd_____________', 'eeee    e     a d_____________', 'ee eeree  x xpxu______________', 'eeeoeeeeeeeeye _______________', 'eeeeoeo  v  e xevavv__________', 'eeeeeeee   ee   llv  gr_______', 'eee e  e xra__________________', 'eeeeo      ymaffvv____________', 'ee eeeeeeeevttexl_____________', 'eeeeeeeeetppxxpupeerul________', 'ee     et eteeeeeex___________', 'eee ete    eemeee ____________', 'eeee  eeeeexyul_______________', 'eeeeee ee ____________________', 'eee        ll_________________', 'eeeee eeeeeexu________________', 'eeee               mm  ee_____', 'oooo       l__________________', 'eeo ee   xpp__________________', 'eee eee  veevvpe e____________', 'ooooo     e __________________', 'ee eeeee ppppe xe_____________', 'eeeee eeeeavp_________________', 'ee eeeeeeeeep ee______________', 'eee    l    n vp  n___________', 'eee e       aaap______________', 'eeeen    ulpppaa t_lpaaa______', 'eeeee     vvveeupxu___________', 'eeeoeeeeeeexeeet______________', 'eeeeeeeeeee   ________________', 'eee eeeeeeppaaaxxsrny_________', 'eeoee eeeeeeja e______________']\n",
      "2.2287333\n",
      "['eeeeee  eeeyeexeg_____________', 'ee eee eeee  ve_______________', 'eeeo  ex xner_________________', 'eoo  e ooo p _________________', 'eeee exeueuuavvvvvaa__________', 'eeeeeeeee  tgeeflg____________', 'ooo oeeeoeee  e_______________', 'oooooo ee    nvseyl___________', 'eee eeeeeeee va of____________', 'eeee      yy__________________', 'ee   eee  e xx________________', 'eeeee ie  rxemuurrrl rsll_____', 'eeee    xn  ee ns_____________', 'eeeee eeeeeexe________________', 'e  eee  ooommva  qg___________', 'eeee e   eeu__________________', 'ee ee eexeeeexx_______________', 'eeee eeee exx_________________', 'ee  e    ovvveeu______________', 'eoe eeeeeeeeetvee oe__________', 'eeeeeee  teeeevvfa____________', 'eeeee  eeevvvvv mmvvllll______', 'eeeeeeoeoeeeeeyeyyavv_________', 'ee         _elggg  qlll_______', 'ee     ee exxjexex____________', 'eeeeeee  e eeu________________', 'eeeeeeeeeeeeeeeexiomvvv_______', 'eeee  e ee  u vpe  ___________', 'eee eee ogaeepdpa_____________', 'ooo ee eee____________________', 'eeee nee      eee_____________', 'eeoeeeeeee   e _______________']\n",
      "2.079215\n",
      "['eee   e  e____________________', 'eee eeeo eeeee________________', 'eeee ee    ___________________', 'eee eeeo eyeee________________', 'eeoe eeettt  eer______________', 'eeeeee     ee uaee____________', 'ee eee     ___________________', 'eee  eeetoov vvv______________', 'eeeee eoteueaiu_jeee__________', 'eeeeeeeee e  vsvyye __________', 'eee  eeee ra__________________', 'eeeeeeeeee eeexex_jvvvmem_____', 'eeeeeoo   e ccd  exxyy________', 'eee eeeneetaetu_______________', 'oeeoo   e ee   p ttb__________', 'eee eeeee ennaumem____________', 'ee o       ___________________', 'eeeee eeee eee________________', 'ne  eeeeee eeerr______________', 'eee eeeooeo fl________________', 'eeeee     efmveem_____________', 'eee  eee    e_________________', 'ne eee  eeeeeee_______________', 'eeeeeeeeeeeeeeeeeexxxrrl  ____', 'eee eeeee  rraa_______________', 'eeeeeeeo txixjuxiirru_________', 'eeeeeeoo oeeeeeeeeee__________', 'eeoeee ee   aa eemve__________', 'eeeeeeee eecxll_______________', 'ee ee eeeet eeeeee____________', 'eeeoeoeeo ttte xxxu___________', 'oee e ee  aee_________________']\n",
      "2.0313993\n",
      "['eeeeoee eelvtlsasvvjdlv_______', 'eeee eee eee _________________', 'ee       _____________________', 'eee  ee     __________________', 'eeee    eee___________________', 'ee e     ee___________________', 'eee eee   a___________________', 'oeee ee  e ee go______________', 'eeeeeee    eeeeepxu_je________', 'o e  eee eeeee________________', 'eee         jl________________', 'eeeeeeee lo eereeeff dad _____', 'oooeeeeexueeeeee  uu_____y____', 'eeeeeooooo  xeeeeeexne________', 'eeee e  te neee_______________', 'eeee eee    eeu_______________', 'eee   e     xn pp_____________', 'eeeeee     e    xx___c________', 'eeeeeeee  eee_eee_____________', 'eeeeeee   t x ________________', 'eeeeeee    e__________________', 'eeee  e   e___________________', 'eeee eee  eeeel_______________', 'eeeee e  l  llaao   evvm______', 'oeoooeet txxellppxp_vsedm_____', 'eeee  eeueee tulvllll_________', 'eeeeeee et et___att___________', 'ee eennn    nn________________', 'ee e    eeeu pe oeeoo_________', 'eeeeeeee ee a_ll______________', 'eeeeee  e  te ________________', 'eee e  enne ___prs____________']\n",
      "1.9621794\n",
      "['eeeee eeeeeeeuppx_____________', 'ee eee e    v ________________', 'eeeeeee eetonpl_ xvc__________', 'eeee    oni apv_______________', 'eeeeooo oxnuueulee tv_________', 'eeee eee    on________________', 'oee eee   ____________________', 'eee       aa a _______________', 'eeee  ________________________', 'eee e      ___________________', 'eee eeeo eees_________________', 'eeeee o  d  eeseee f__________', 'eee eeeee  on_________________', 'eeeeeee eeeee_________________', 'eeeee ee    evv_______________', 'eeee eeeee  eeee______________', 'eee eeee         _____________', 'eee e     xx a mexl___________', 'eeeeeee e t eeeexxnyvuiav_____', 'eeeeeeeooo aeeeeel vv_________', 'eeee eeni   ny________________', 'eeee   e      ers_____________', 'eeeeee   exeuuixeereees_______', 'eeeeeeeeeeeeeeeeea  llls______', 'eeeeeee  e  l eeeap___________', 'ne    eetoxol_________________', 'eeeeeee eeeemeeeeeeee_________', 'eee e      veevesorrdd________', 'ee  ee e  l___________________', 'eee  e   nn r_________________', 'ee  ee   ee   ________________', 'eeee teeeevbeeeere_xn__e_ss___']\n",
      "1.88784\n",
      "['ee   e  eeee__________________', 'eee eeeo   at_________________', 'eee  e e   aa e_______________', 'eeee e ee    t________________', 'ee ee          ooee___________', 'e eeeeeo  e    o______________', 'eeee e     ___________________', 'eeo  eee eeeee________________', 'eoe  eeerrrnereeeeeeeeu_xi____', 'oeeeeeee eee  eeeet___________', 'eeeee  e  ____________________', 'eeee     oox__________________', 'ee e  ee    e  ve  m__________', 'ee ee  eeeeexep    ___________', 'eeeeeee   etgg    ____________', 'eee eeee eeeee________________', 'eeeeeeeeeeee___e___  v af_____', 'eeee e   eeeeee  _____________', 'oeeeeeee  oo__a      _________', 'ee eee  e oe _________________', 'ooo   e  oe  oa_______________', 'eeeee o ttt_rlen vv___________', 'eeeeeoioll klxxxxu___mms______', 'eeee   e    neee______________', 'eeeee    eee eeex_____________', 'eeee eeeee ee e  yl___________', 'eeeo  on   _t_________________', 'eeeeee  onexsxeetl_e _________', 'e        o____________________', 'eeeeoo eeeee tturrr___________', 'eee  e  ee ee_________________', 'eee eeeeeeeeeo ea_____________']\n",
      "1.8691308\n",
      "['eeeeeee    e _________________', 'eee eee eeee_x________________', 'ee eee  enee__________________', 'eee eeo  oeeeee   e __________', 'ee eeeooeeoee tg_eeel_________', 'eee  eee    e oee_____________', 'eee ee   e eee________________', 'eeee e   ee __________________', 'eeeeeoo l_ rn e eee x__i______', 'eee e   e   o_________________', 'ee  eeeeex xe  m   vv_________', 'oeeee eeeeex_ e xnee e________', 'ee eee      e   ______________', 'eeeeo e  ee __________________', 'eeeeee  ett ta________________', 'eeeee eee    o________________', 'eee ee e     v tv_____________', 'eee  eeeeee      simdp________', 'eee   e  o  n__uunnyeu________', 'eeeeeeeeeeeee_lx ea_eee_______', 'ee   e   oo eee_______________', 'eee eeee ee  reeee____________', 'e eeee eeeeo   ppler__________', 'eeee      e  rr_______________', 'eeeee e ee      n_____________', 'eeeee      e     _____________', 'eee eeeeoe on_________________', 'eeeeeo eeee e  ee ____________', 'eeeeeee        _______________', 'eeeee       oee_______________', 'eee            _______________', 'eeeoee e  on eee______________']\n",
      "1.7639916\n",
      "['e ee    eeee__________________', 'eeeeee eee eeen_______________', 'eee   e        eeos___________', 'eee          er_______________', 'ee e noeeeiiaa vvaa___________', 'eeeeeeee eeoo  teeeeo_________', 'eee   ee e  __________________', 'eee  ee eeee eao______________', 'eeeeeo       eee ee___________', 'eeeo e    ____________________', 'eee e ee     _________________', 'eoeee   ee  o   ______________', 'eee  eeee   __________________', 'eeee ee   o    osi____________', 'eee e e eyyl xx_u_l_yss_______', 'eeee  eeoox e eppe____________', 'eee     e  eeee_______________', 'eeee e  eee_ eeeserol ________', 'ee e        e  a______________', 'ee eee e   ___________________', 'eeeeee oee   t________________', 'eeee  eeee eeee  aaa__________', 'eeee             _l___________', 'o  e        aaa_______________', 'eeeoo    eeeoeeo  a___________', 'eee eeeooe eee________________', 'eeeeee e eoooot ee ___________', 'eeeeeoo  e oeeeeu_____________', 'eee eeeo neeee________________', 'eeee  e eee___________________', 'eee o ee  e___________________', 'eeeeeeeeeo  a  eeexxx_________']\n",
      "1.7423004\n",
      "['eeeeeee  eeeeee tleg__________', 'eeee eeeee  __________________', 'ee     eeee seeooooolls_______', 'eeen neeee eeee_______________', 'eeee  eeeeeeee teeegll________', 'eee   eeee ee ________________', 'ee e  e o eeeee_______________', 'oeee e e eee    exnn__________', 'ee ee   e eeeeeeepol__________', 'eeeeee e e e e  xa____________', 'eeeee   e   o e  __eeee_______', 'eeee eeee o    _______________', 'eee  eeee eee_________________', 'eeee  eeee eeee_______________', 'ee eee    e___________________', 'eee e     ee__________________', 'eeeeeeeoo       e n___________', 'e eee  eeee___________________', 'eee      ee  e________________', 'e    e eeeo eeaaaaa___________', 'eeeeeeooo_ nn   n___vireers___', 'eeee      oo  xa______________', 'eee e e   e  ee ______________', 'eeeeeoo         v_____________', 'eee    e   eeen_______________', 'eee  oooo   eeex    __________', 'eee  ee      _________________', 'ee  e   no____________________', 'eeeee eee eeen________________', 'eeeee eee   ee________________', 'oeeeeeeoo e   e    ___________', 'eeeeeeeo oo eee_e_____________']\n",
      "1.5448091\n"
     ]
    },
    {
     "name": "stdout",
     "output_type": "stream",
     "text": [
      "['eee         __________________', 'ee e       eeoo__r____________', 'eeeeeee   oo_l _______________', 'eee eeen neeee________________', 'ee       _____________________', 'e e e      e oo_______________', 'eeee         n________________', 'ee   eee     nn_______________', 'ee eeeeee   t_________________', 'ee eee  eeeooo________________', 'ee eee      __________________', 'eeee ei  r reeer_rr eeeeeea___', 'ee    eee_____________________', 'eee e e  ee __________________', 'eeee  e     ao________________', 'eee eee   o___________________', 'eee ee      __________________', 'eeee      eer_________________', 'eeenee    eeeeeerxx___________', 'eeee eeeee  eeetx_____________', 'eee eee   nonnnnreere_________', 'eeee ee e oooc__ ee __________', 'eeeeeo  e   o_________________', 'ee   ee    eee________________', 'eeeee        _________________', 'ee   e  ooo   ee______________', 'eeeee       eerra rr__________', 'eee    e      ee______________', 'eeeee e   ee__________________', 'ee eee e enro_________________', 'eee   e  eee eeen_____________', 'eeee ee   e e eet_____________']\n",
      "1.6671948\n",
      "['eeeee  o  eeeee__  t__________', 'eee eeen eeee_________________', 'eee e eeee    na______________', 'eeen nnn       r _____________', 'oee ee   e ne eee_____________', 'eeeeee    eeeee   ee__________', 'eeee e     _aa a__xee_________', 'eee    oo_ ________e__________', 'eee  eeeeo  __ _______________', 'ee      e  oore_______________', 'e ee          reee_ __________', 'eeeeeeeeo eee eeeeeee_________', 'oee  e eee____________________', 'eee      ee  ee_ ee___________', 'oeeee eeo    e _______________', 'eeeee      eee________________', 'eee e eee ee _________________', 'eeeee e   eee_________________', 'oee  ee oo  oo________________', 'ee eee    e __________________', 'eeeee    oeoo ee______________', 'eeeeeo  oo _eeeeeee___________', 'eeee  e eeeee e ______________', 'ee ee   eeeeeeee ee vvva______', 'eee e       ee     ___________', 'ee        o___________________', 'eeee   eee eeee_______________', 'eeee  eee     ee _____________', 'oe  e     eee_________________', 'ee       nnr _________________', 'eeeee eee   eeo_______________', 'eee  eeeeeooo   ______________']\n",
      "1.6868923\n",
      "['o o       e   neee_s__________', 'eeee eeee e __________________', 'eeeeeee eee erer______________', 'eee   ee   ee_________________', 'eee   e       ________________', 'eeee e  eee___________________', 'eee        eeee_______________', 'eee        a  oa______________', 'eee o   eeeee oo ee __________', 'eee eee eeeeeeeeerr___________', 'een oeee   e   ol    _________', 'ee eeeoe on___________________', 'oeeeee   o  e  _______________', 'oeee ee eee ee oni____________', 'oeeee e      o________________', 'eeee       o__________________', 'oeee enoo oe _ereeee__________', 'eee eee  oo  a _______________', 'eee        ___________________', 'eeeee eee     enaeee__________', 'ee   eeeeeeee   eo____________', 'eeeeee     ool   vvsaaslll____', 'eee eeeneeo  _________________', 'eeee eo eet_t r__l__e_________', 'o e     ee____________________', 'eeee        _a________________', 'eeeeee          ee____________', 'eeee e ee eeeoee  eeee________', 'eeneeeee eeeeeee__  __________', 'eeeee eetrrr  ________________', 'ee e         _________________', 'ee ee ee  eeol eee ___________']\n",
      "1.6212649\n",
      "['eee   eeoe eeeo  _eelee_______', 'ee        o r  _______________', 'oeeee e     ee _______________', 'eeee e     ee_________________', 'eee eeee    e ________________', 'eeee e ee   ee________________', 'eee       nn__________________', 'eeee e    e  ee ______________', 'ee ee e    e  ooo ____________', 'e  eeeee  e eet_______________', 'eeeee  eeee_  eeeee___________', 'eee        no_________________', 'eeeeee   o oet________________', 'ee e  eee eeeo_ll_____________', 'eee ee  e  ___________________', 'eeee     sree eeeo e__________', 'ee     eeeee__________________', 'ee  eeeer     ni______________', 'ee  e      so___ r___e________', 'ee e eee      oo______________', 'eee  e e   rnrne______________', 'eeee eee eeeeeeeeeeee_________', 'eee      ee   ________________', 'eeeee ee eee eeeeeee__________', 'eeee eeee eee_________________', 'eeee    ee____________________', 'eee e eene eeeer e____________', 'eee ee e e  eee_______________', 'e  e    e  oeeereees__________', 'eeee  e  rrr  ________________', 'ee ee       o  _lenee_________', 'ono  ee   o_ e   _eeeeera_____']\n",
      "1.5603315\n",
      "['ee eee ooooe eeeee____________', 'ee  e        o________________', 'eee   ee oerrei eeee__________', 'eeee eeee  or_________________', 'ee  e ee nreeee e____ee_______', 'eee       eee   ee____________', 'on     r   neeee______________', 'eee neeee eeeoee______________', 'ee neeeee    _________________', 'ee    e    ___________________', 'eeeeee  eee  e________________', 'eneeeeeeee     ___eee_________', 'oeeee e    ee  et_____________', 'eeeeee eeno o ________________', 'eee  e  ee e e _______________', 'ee e eee eeee_________________', 'eeee   e eee  e rr____________', 'eeee  ee    r  __r____________', 'eeeeeoo o e eo _ellee_________', 'ee e     e  e o_o_____________', 'oneeee       e _______________', 'eeee  ee eeeeer__ ____________', 'eee  ee      _eeeere rn_______', 'e noee n  eorr  t __r_________', 'eeen eeeee   o________________', 'oeeeeeee        ______________', 'one e   e    oo_______________', 'eeee      o __________________', 'ee eee eeen___________________', 'eee e      ee ________________', 'one e e      n__e_____________', 'ooe        ___________________']\n",
      "1.5972275\n",
      "['ee eee   neeeeeee_____________', 'eee re  eeo eeen______________', 'eee  e    no e _______________', 'e           ee________________', 'ee   e       aa_______________', 'ee  eee  teeeoo_ r____________', 'eeee eeee  oo_ele_____________', 'eeee  eee  eeee ______________', 'eee  e   o o   __e____________', 'eee e eeeee ener______________', 'ee  eneee  o  eeee ___________', 'ee  eoe  nrr_eeee_____________', 'eneeee  ee e  eee_____________', 'ee   e    e e_________________', 'oneo e          _ees__________', 'eeee eee eee__________________', 'eeeeeee     r  _______________', 'oeeee   eeo   e_e_____________', 'eeeeeee      _iieee  _________', 'eeee            r_____________', 'eee   noee nreere r_rr________', 'one eee     ereee_____________', 'eee eeen enen_________________', 'eeee e     eoe eeeeeree_______', 'oe     ee o  n ___eee_________', 'ee     eee ___________________', 'eeo      neeo_________________', 'oee eee    ee ________________', 'eeeee  eeee ee________________', 'one         o_________________', 'ee  eee eeen__________________', 'eee    eereeenr ______________']\n",
      "1.5888133\n",
      "['eee        ___________________', 'eeee      ____________________', 'ene   e o  oo ______e_________', 'eeee        __________________', 'onn e    e ne e  _____________', 'eeoor    r____________________', 'eee    e     e   r____________', 'ne   e e______________________', 'eeee o    eeo  _______________', 'ee       reeerrer_____________', 'eeee        eee_______________', 'eeee ooee  t___ri_____________', 'eeee  e    ro_ __e____________', 'ee e  oro  eeo________________', 'eeee   neer o rr______________', 'eeen neeee eeen_______________', 'eeeeee  e oee  teo____________', 'neeee eeo eeo_________________', 'eeeeeeee eee ererr____________', 'eee   eeeee     ______________', 'oee e    eee__________________', 'eeene      ee_________________', 'eeee  n eroo i eeeraaee_______', 'e      e    ee   _____________', 'ee    oe  eeeee eeo___________', 'ooe    oo   oo________________', 'eo ee   eeeoeeree_____________', 'eeen o        ee______________', 'ee eee     ee ee eo___________', 'ee        o  o_  r  __________', 'eeeee  eeee eeeee_____________', 'ee ee eee   o_________________']\n",
      "1.478096\n",
      "['eeee  eeeeoo  t_______________', 'ee  o         ________________', 'eee ne  e nes_________________', 'eeee   ee  eo_________________', 'eooeeee ee      ______________', 'eenore eee eeeee_o___ ________', 'eee     eeo___________________', 'e eeee r  e oes_______________', 'noe   o  ee  rrr_ n___________', 'eeee         _________________', 'nee    eeen___________________', 'eee  eereeee  e_ee_e____e_____', 'ee    n   ____________________', 'eeen eeee  ree________________', 'ee   eeeeeee reeee____________', 'eee eeee  o___________________', 'eeo ee n  eee___ eeeeeell_____', 'eeen eeeee eeee_______________', 'ee oe e eee     ______________', 'eneenreeee  nn eee____________', 'eee eeen enen_________________', 'ee eeeeeeooo_e_o o___e________', 'eo o  ee   ee  ereerr_________', 'ee reeee  n    _______________', 'eeen eeeee eeeee______________', 'eeeee eeee   _________________', 'nennee e   r  ra______________', 'eee    eee  eeeeeee___________', 'e           oo________________', 'ee  e     ee__________________', 'e      n  eenir_______________', 'eeee   ee    _________________']\n",
      "1.3803153\n",
      "['ee   e  r    _________________', 'eee eee eeen__________________', 'ee  e e   eeeo_ eree__________', 'nne eee eee __________________', 'eeee eeeeneeoe e ee___________', 'ee e eeeeee  ee   na__________', 'ee    e    ___________________', 'eee  erer noor________________', 'neeeeo eee noer__er___________', 'e ee eeeene eee_______________', 'ee      eeeee_________________', 'eo e   neoo___________________', 'eeee       ___________________', 'oe eee eeen___________________', 'e         eer o_______________', 'eene        ree_______________', 'ee      e    e  ______________', 'neoe      eno_________________', 'eo eee  ereee_________________', 'noeee er si_ __  _____________', 'eeee    oo  orr_______________', 'e e e e  eeeeee_______________', 'eee ee e   oe neee____________', 'eeeneeeeee eee eeeeeee________', 'eee     eeeeeee_______________', 'ee  eeee        ______________', 'ee  eerr  nr ee eee___________', 'ee e    eee___________________', 'eeeee  n  eee_________________', 'eo           _________________', 'eee   e e  n   _______________', 'ee        ____________________']\n"
     ]
    },
    {
     "name": "stdout",
     "output_type": "stream",
     "text": [
      "1.3971474\n",
      "['eneeero  no _r_____e_eee______', 'eeee eeeee r  r_______________', 'een    neenreeee______________', 'ee         oo_ e __ee_________', 'e   noeeeoare  e ___l_________', 'e neen eroooe____ ____________', 'eon   eeeee  teo______________', 'ee ee    e e e________________', 'eee    eee noor ______________', 'eenr   e  ee  e_______________', 'eneennr nn eeee_______________', 'eeee  oee  rorri n____________', 'oe en      ___________________', 'neeee eeen eee________________', 'oe   e e r n eee______________', 'e  e   e e  e eeo_____________', 'ee       eeo__________________', 'eeeee eeeee eeeee_____________', 'eoeee eneooe___ e____ar_______', 'ne e e  nooee_________________', 'noeeneenoe ee ee______________', 'eee   e  eeeee  eeee i a______', 'eee    eeeee   ne_____________', 'nee     ______________________', 'e e       etra  ______________', 'e noe ee  no__________________', 'eeeee eee  o eet______________', 'neo eno  o____________________', 'ene o  oe   ee ee_____________', 'ee          __________________', 'eeeee er ee ee________________', 'e  ee    _____________________']\n",
      "1.4683086\n",
      "['ne  o or   r   reet___________', 'eeee   ee   rr________________', 'eeeroerr  oo___ _ee_______e___', 'ee ee   nreeee e rie__________', 'noee ree r   a      l_________', 'eee  oee r r_rr__ ____________', 'e r      nnnseee______________', 'e ee   ne eno_________________', 'eeeeoe   ee   no______________', 'e     eee eeet________________', 'ee       _____________________', 'oeeene  eeeee so______________', 'ee enr      __________________', 'eene   enrrter   _____________', 'e neeero nee ee ______________', 'eeee       o__________________', 'oee o    r   _________________', 'eno enen eno__________________', 'eae  n    o___________________', 'eeeee  neeaea__e e ___ta______', 'oee  e e eeno_________________', 'e noee eee re eer__ r_________', 'eee  eereene eeee_____________', 'eeeee   o  neeeero____________', 'oee   ee   ee_________________', 'eo           e________________', 'eee       ene__e______________', 'eeeee eeeere  ao______________', 'ea     eer   _________________', 'e een  te   errtaree ee_______', 'enee eee eet  er______________', 'eee eee    ee_________________']\n",
      "1.3551258\n",
      "['eee      t ereeee_____________', 'noeeneoooo  o     ____________', 'eee ee ee e___________________', 'eeeeeee  o   _________________', 'eno  o e e____________________', 'eee  eeeeee    na_____________', 'noeee e e o ne________________', 'enen   eee r or_______________', 'e eeonoo  n   ________________', 'no     nn o reee eeee_________', 'eeeeeeeee   e reeeeee_________', 'eneoe  ni eni___r  terar______', 'no  e    ooo__________________', 'eee      e____________________', 'neoo o      __________________', 'eno   eee eeee________________', 'eeeeee   o  reooe_____________', 'eno  eno enen_________________', 'eee  o    te eeno_____________', 'ee  e    no___________________', 'eo      e  ooo________________', 'ooee e eeeereee eeeeni________', 'eeneee  eeeee  nn_____________', 'ee       ener  _ _____________', 'eno eno enen__________________', 'neeeee  n    eo_______________', 'ona  nn oee eno___e_ee________', 'eee    r    __________________', 'eeeeee    e t_________________', 'eneennr   rr eeee_____________', 'ee    nneee ete_______________', 'eee  eeee  eee  o_____________']\n",
      "1.5057286\n",
      "['oe  ooer erott_t na___________', 'ee       i  ie__   ___________', 'noiearr___i___ ___ _ee_ear_re_', 'ea           en_______________', 'eeeeer e eeror  o_____________', 'ee  eee n   e ________________', 'a         ____________________', 'e eno  _______________________', 'ee ee   nooooo_  _____________', 'ee  e     eee_________________', 'ona  e  eeeeeee_______________', 'onn    iro ___ n_____r________', 'no   een   rtnnrre____________', 'eno enen eeee_________________', 'oee       ____________________', 'neeee eee eeee________________', 'oeee   n  e nee_eeoe_ri_______', 'ee  r tnee  e_eieneen_r___e___', 'eee eee   nreene eerere_______', 'eee  neenreeee _______________', 'eeee ee neo___________________', 'a      ireeee  _rteeee________', 'eee   oera     __eee__________', 'eeeeer     ___________________', 'e o  eee t      ______________', 'neaea e   eee  _______________', 'e oeeeoeore   eeen____________', 'e i    e     ee ______________', 'eer      r   ee_o_____________', 'eno   o   ____________________', 'ea     teo  or_ ra____________', 'eeo   reee  oo   _____________']\n",
      "1.4090302\n",
      "['eeeeeoe  ao  eeena_r__________', 'eno enen eeee_________________', 'eeeoe no   eeeee______________', 'e          oo_ _______________', 'eeeeee  nooeoeo_er t__________', 'oeee     eee _________________', 'eeeeee  eeee n _______________', 'e eno  _______________________', 'na neeerten neeeio____________', 'eeea ee  e  e_________________', 'oe ee   neee__________________', 'eeeoeo oi  n  nee___ n________', 'eeee eno eeoaea_______________', 'o ee   e  eeee________________', 'neee      ____________________', 'no         roree e____________', 'e  e  e e e  eee______________', 'nee e   o r   eno_____________', 'ee  ooer  e reeooo____________', 'er  e i   n     ie____________', 'eee  reeer    e ______________', 'eoe o    e e  o_______________', 'ona   noiea  oe  _____________', 'oeener reee   eeeet___________', 'noo eneeeee  n  ree___________', 'oe e e  ro ___________________', 'e o oo ooooi   enreeeee_______', 'oeenoeee    t  ao_____________', 'eee   e t noee e______________', 'e o  eno eeee_________________', 'eno enen enen_________________', 'eroeeeee  o   e_______________']\n",
      "1.3395116\n",
      "['no  ee rrana  eeei__irr_______', 'neeee eet rorrrr______________', 'ee  eneenee eet_______________', 'enoen        _________________', 'na   eeee  r    ______________', 'eee    a   n o________________', 'e    o n n____________________', 'eeeenoo e t  _________________', 'eeeee o ni noi_______ ________', 'eee   oe  neeeiiie____________', 'oeee       a   _______________', 'enneeeeeoo  nee__i ____ni_____', 'no      e t___________________', 'oona a   nnro__ eet___________', 'eee n eeor e no_______________', 'na o to eree e eeo____________', 'a    r     ___________________', 'e eee eeee  ei________________', 'eeeeee  eet ereeee____________', 'nnoee tetini ni eet___________', 'no    ree   r  a______________', 'reee    eee raeer ro__________', 'oee e ee   rooten_____________', 'no e   eeee___________________', 'eee iie    e on eeerr_________', 'neee   eno   eee______________', 'eeno  o ee eet________________', 'eeer   e t nooaer_____________', 'no e     enoo o_______________', 'neeee   eee___________________', 'o ee  e rtro   o______________', 'een eeee  ree_________________']\n",
      "1.3099495\n",
      "['eeoe  tsieo_ooo_____ _________', 'ooar      r __________________', 'eere   ee  o__________________', 'eenroo oo  eeee_______________', 'eee  te snoooi___ ____________', 'no e    neeertsni_____________', 'oooionarr        t____________', 'eno    e______________________', 'e    e o  no  o_______________', 'eeee  e  eisoo ro_____________', 'reeee        it_______________', 'ona    neeereeee ee_e_eee_____', 'roe nieiro  o eet_____________', 'ee e  ennnn nn________________', 'oe eeoo e eet_________________', 'oee enen enen_________________', 'eeeee er t     ni_____________', 'eno enen ooe__________________', 'eeee   e t e ono_e____________', 'ore t eeae    noi_neen________', 'ron   o   nionn__t____________', 'eee   e e e___________________', 'e       e reeeo o_____________', 'no    e   e  et_______________', 'eeee     eno enen_____________', 'eee t eeeet  ot_______________', 'eneeteiai e ooeeoe___ er _____', 'ron e   eno___________________', 'eer     r  eno________________', 'oeea   i   o__________________', 'roe oo  eee e   ______________', 'oee  eee   eenereeer__________']\n",
      "1.2663752\n",
      "['ni  o or   n    eene__________', 'e ee oe e ee__________________', 'eeeeeetroo neeterr _oal_______', 'enen eno   eee________________', 'eee n  or erer e______________', 'ni e t eno____________________', 'neee  ni ee eet_______________', 'a  eeoeoro  neeeeee er________', 'ona      ee  oro______________', 'eniereenoo   neeee____________', 'neero   nirr   _______________', 'ee ee ni noieaer__r_ t________', 'e nee reeeae  na______________', 'eee oo eeeereee  o____________', 'eanin nninee eet______________', 'eno enen ooe__________________', 'a eeenen ssae_________________', 'eno  eeeanrnoo  na____________', 'na   ereee o e  ______________', 'enie ei   i  eee______________', 'eae eeee   oo  roo____________', 'nnen  i t  na  nir____________', 'ona  en   eet_________________', 'oe e er e t___________________', 'r o         ie________________', 'neeee ea  ____________________', 'eee ee i ssee    ro___________', 'enen   eee eree_______________', 'enen   eee enen_______________', 'neeee  ni     a ______________', 'eneeni  n n  eo_______________', 'ea tneeee eennn  _____________']\n",
      "1.2132925\n",
      "['ni  ni eeeee t  t_____________', 'eno enen  ii__________________', 'eeeet eree eennae_____________', 'eee  o   eno__________________', 'ona  ee  ere eet______________', 'enen ennn oree________________', 'e eir   eee   nats____________', 'ron e t  _____________________', 'eer    tnnooa  o______________', 'enno    o    reet_____________', 'eeoe   etnnoone ni____________', 'enie ee oo  na  nee_ni________', 'ere  n ee     oree n__________', 'eeae neeee ot_________________', 'ea  neee rennnn sao___________', 'ooe eee e na so_______________', 'neee   e er  eet______________', 're   ee ne nanan______________', 'oe    i  eeerts_______________', 'oe eeeee eeeeii_______________', 'r o   eeee tsoo_______________', 're to  eesae e esni___________', 'eee i a  o    ________________', 'neeeaee  essaii si____________', 'ren ar n  iree   sert_a_______', 'eeeanee  te s  eeeae__________', 'na t e ooeeotor    ___________', 'n oo ni e t___________________', 'oe eno enen___________________', 'neeee  e  na  eeee_ne_________', 'ni   oo roo___________________', 'eno enen t eee________________']\n"
     ]
    },
    {
     "name": "stdout",
     "output_type": "stream",
     "text": [
      "1.2138748\n",
      "['reenn  rereetae s_na__________', 'ooe   n e  ira _______________', 'oenreenoo  tio eeeeerr________', 'oree ene  eno_________________', 'eairasree a  eeees  o_________', 'n  na   r e___________________', 'ea      r  ___________________', 'eno    eeee___________________', 'ne   or     na ni_____________', 'eerene otni  roo______________', 'ee   eno ennn_________________', 'enitni  nioo  tinnn o_________', 'ner tnee   neeeo  n___________', 'eaee e t  reennr______________', 'a nnine  e  eeeeee____________', 'reeen neren e n irts_a________', 'eee  enin ee i e eee__________', 'ona  i artssa treeor__________', 'aieroee  teo eet______________', 'eor treeo eet tneenree________', 'eetneeer ro  nnoaiaa__________', 'ro e eet o e t________________', 'ni o   roo____________________', 'a n   no______________________', 'o eno enen____________________', 'eet  eena  oo ________________', 'era nroo   ___________________', 'nnr   o noitoeee______________', 'enen eer t reeeee_____________', 'eet   na si  o________________', 'a  rooer t eee________________', 'oin  is eeee__________________']\n",
      "1.1746427\n",
      "['eree n iratiiaee  na__________', 'ereeeee eno ennn______________', 'etreeor   i ii eeies__________', 'enen oo   is__________________', 'noo oo       _________________', 'ooe o ee oree_________________', 'on  i t nsao__________________', 'enieoe    ot ere _____________', 'e t eeae  o___________________', 'ro   eereenoo roo_____________', 'enen oot eeeet________________', 'e ro    nnoo__________________', 'ero   r   n  t________________', 'ni e t   anii_________________', 'oeeaer      __________________', 'eren e eno t eee______________', 'erreee   ee so een_r__________', 'eeeon na  a notre nio_________', 'n e   o e t___________________', 'ona e  t  ortnoo______________', 'no e t t oe___________________', 'eee e s  t  ni_ro_____________', 'reeo eeeet ere________________', 'te  i  ot e er________________', 't eie enen eno________________', 'ea a e t  etaet_______________', 'oeerra  neeoo      ___________', 'no re  eeon t eie_____________', 'nae  raterree  arenee_________', 'a o i   na       i ___________', 'ooe eee  noin ii______________', 'oree o t     eesa_____________']\n",
      "1.1504357\n",
      "['oe  a  noiiiiii  o____________', 'ois r o  t ___________________', 'ona  nitnin oono_a____________', 'nae   na atai_________________', 'ta reeo  _____________________', 'oree     nnis_________________', 't ete e e t___________________', 'no    o   e erts______________', 'eninrn   e   ni_______________', 'enini a neeee_________________', 'ntneeearr  e eeeo_  ti________', 'enitieeeoo  tini_ o_  _ee_____', 'oooo ni etees_________________', 'retea  niee teeeo_____________', 'eaee  o r oo__________________', 'oree r o  eno_________________', 'ona  i r  aer  nn_____________', 'eno   eie eno_________________', 'n i  na   roo_________________', 'no e t  rtnnoo________________', 'r o  ni eno___________________', 'ot e t   eee__________________', 'enitsiie noita_ii_____ __r___e', 'e t  rree troo________________', 'enin r o  neeee_______________', 'ona e t  ir __________________', 'eeoeo  eeetaeer  o____________', 'oot oree oree_________________', 'no  r s e ____________________', 'eno ee ot e a a ______________', 'e t teoe eeesneeoe____________', 'eea enan  nin ar__rr o________']\n",
      "1.2928071\n",
      "['r o a   etae   ___  t aee_____', 'eartree    etoe_______________', 'osea tnes srooassaa_a_________', 'tnete  ra s o a  ro___________', 'onasio t sraee enan___________', 'nrosseeoro    s sa____________', 'eniea a eeneeiinio_  i________', 'noitareetni   ir e ra ________', 'seeieooot a eeeet st__________', 'tnno a  o  roo________________', 'rete      nre t o_____________', 'nnioo   ro  nioo______________', 'no r e t ee on________________', 'ee e t  aertnoo_______________', 'ntreeee o   ee  ______________', 't eie  is neeee_______________', 'eeoe stnann    s______________', 'enin eno t eie________________', 'ona  e a   aitnatsa_s_________', 'ae irreee soit_at eree________', 'enin t eie neeee______________', 'eeroe t  na  rartno___________', 'oeeo  a  oo  _________________', 'ot e t  tron__________________', 'ora  nirr ee nanireea_________', 'ona  i    t  ninrrter_________', 'e t e er   na_________________', 'eee  neeetee  eeeo____________', 'eea ee   ree ee_______________', 't   ee    eretne______________', 'enitnian ta eet_______________', 'on noitioe enroono____________']\n",
      "1.1514056\n",
      "['ro  eer e     ________________', 'eno enin nis__________________', 'ot naeeor e s oo_n____________', 'si  eeeinn eeets______________', 'eeeoee ee    eeaen____________', 'sreeieaane noitrot___ _e___e__', 'sraee a ta tsrii______________', 'sae tsrii  etoo_______________', 'nan e  ete n__________________', 'roo noitareeerrer sesoor_o____', 'ere esi ee reeo  _____________', 'eeaei eeaaataa snio___________', 'snoitnetni eeet teee__________', 'snee anan ni e t______________', 'ton reeeeo  neee______________', 'ona e t ortsoa________________', 'na si t inon__________________', 't eie r oo   _________________', 'ni onooe  niai eenis__________', 'oeeira   s otni eet___________', 'ni   ra  eno__________________', 'ot ra   oo  eeeee_____________', 'taere eeae eo_________________', 'no e t  na si_________________', 'reter  eno enin_______________', 'ee t retae ta t_______________', 'eoor  ta a____________________', 'oneeee eeroee  aee____________', 'no e t   ee___________________', 'ni tii eeei__ano_  air___rret_', 'eeet eno enin_________________', 'eare     i  nnsi______________']\n",
      "1.1148208\n",
      "['ona  a   a ne_________________', 'eeen  iseeen eno______________', 'e est o e t naireei___________', 'ona    ei   itsiiaa_i_i__i____', 'e t eeor  o___________________', 'ona srosserr oo ro____________', 't eis no    n_________________', 't ooa e t  ___________________', 'ea tee  na  ni_a_a____________', 'e t tonrar ee e_______________', 'ooiree  o e it________________', 'e t eeeeeoo  o________________', 'ssani irr tnes ot_____________', 'eno enin eeee_________________', 'ee aiiiiio  eean e t__________', 'naira nn  erer e eno__________', 'sreeoe  era  ee  or __________', 'eeet etee n oo seera _________', 'eno enin enin_________________', 'ea na inii  o e t_____________', 'enin enin t eie_______________', 'eeeoee no e t_________________', ' t ore eee  o_________________', 'oeeea  e t  nansi_____________', 'r oo t  ie e ta ______________', 'raee no ree etees_____________', 'eniooee na e ooeeotor_________', 'ona re ron eenanii____________', 'ni eno enin___________________', 'sretae eni ror eeitira _______', 'enin eno  ti e________________', 'oree oree neeee_______________']\n",
      "1.1060039\n",
      "['sseeoa ot seer ooer___________', 'enin neeee eno________________', 'ae sninen  na nanee___________', 'snnise    ae s________________', 'rotai ee rotaiiiino_ ro_______', 'sretieii eea ee   enisaer_ni__', 'r oo oot oree_________________', 'eno r ree o __________________', 'ot e t tneenorinne____________', 'a tonrar ee e ________________', 'neeetee e  n eno______________', 'e t  tii  o___________________', 'e t seeeeae  na_______________', 'eno n aniiiies tiortee________', 'eaiiii o  rots  o_____________', 't eie  is neeee_______________', 'eera  eer  nona eet___________', 'ea ssa   tier eno_____________', 'eeen  nisaerrni   ____________', 'naar  a  irreee ni____________', 'e t  anoitan neeoo____________', 'e isni  o  ___________________', 'tenretni sa a_________________', 'ni eeos snoitiie______________', 'setaa nanireea ssert_a________', 'oot oot eno___________________', 'ea  eea  eeret________________', 'retsinii neene nosnno_________', 'enin eno e ___________________', 'seeae ie e onooe nia _________', 'nosserr seeooee eenarr________', 't eie t eie eno_______________']\n",
      "1.1110197\n",
      "['eaii ii niiooo _tsi___ara_____', 'enineees re r   nettir________', 'eeeai a  aiiree o_  no__a_er__', 'eei   tria  na________________', 'rotartiara ni  na ____________', 'ra   oo snoitiiia ot__________', 'oree r oo sonoo_______________', 'ni ria eeroo__________________', 'eaii e   noitaa_e eelarenee___', 'enitna sa a___________________', 'nis  na    n__________________', 'een  ro  sao__________________', 'era s itiii  o________________', 'noo sti  ttii_________________', 'e t nnise  erotsit____________', 'eno enin eno__________________', 'eets  na ti___________________', 't eie t eie enin______________', ' t ore  na  ni sais___________', 'eno enin nis__________________', 's eettieeoo  o________________', 'eeetat    o loo  trae_________', 'eear   ot eeirrse ____________', 'no  a o t   ra _______________', 'eno enin eeen_________________', 't eie oot t eie_______________', 'ro eee  no a _________________', 'naeeris nosnnoo  aeeris_______', 'sae retsinii  o_______________', 'eenitra   onooe  o____________', 's tsrii eea ee________________', 'oot eno  is___________________']\n",
      "1.0910306\n"
     ]
    },
    {
     "name": "stdout",
     "output_type": "stream",
     "text": [
      "['enio   ni e t eet_____________', ' nnora eno enin_______________', ' tii tsoo  o__________________', ' oo   i     e   a_____________', 'snoitiiisirii ta  na _________', 'ena   irtreee ssaa____________', ' essaa  e  ir nosre nee_______', 'enieaea  e rar  ias___________', 'e t  a i e e noitaa_e_________', 'tae  eniene  etartsslli_______', 'oot oot eno___________________', 'e t reeron eean_______________', 'na etarooaae  narr____________', 'n o ni eno____________________', 'no e t or e___________________', 't eie  too re nn______________', 'si eeeissoo ot________________', 'eno enin neeee________________', 'noitaaini e t naiiroee________', 'enin n  soorar________________', 'sie nara  tisreeinn  erono____', ' n oo ton eeneireeee__________', 'a eeenis  aaole_______________', 's sseeon ni___________________', 'oot orteee aennee_____________', ' ti s  ias e _________________', '  ieno     aretii_____________', 'eea ee e t tsrii______________', 'rooa  ni ra e eaa_____________', 'iea a  i a a  si______________', 'eeirn retsinii eno____________', 'n  a tneeee eenan_____________']\n",
      "1.0154939\n",
      "['e rrana noitasina_ro  na______', 'r oo oree  e siia_o___________', 'ee t re to s rooer____________', 'sae nroo ni___________________', 'seeit e t nn oo_______________', 'sreeaen raee esea_ee__________', 'ot e at e t___________________', 'e t   eno_____________________', 'ron  ninrnn a_________________', 'no a er taree et______________', 'enin enin rnoo________________', 'no ta tsaee___________________', 'ea a ria _____________________', 'enin eein oot_________________', 'eoo  s si  etetsii____________', 'e t ser asaaa erir e__________', 'eee re teeot seet aie_________', 'eno a  _______________________', 'eeonooe seenitnoo ot__________', 'aaae eira  si t ttet__________', 'ei   tii rieet________________', 'na  ra t o     _______________', 'nnt  i  rooten________________', 'si   anoitiii  essee__________', 'naiiati eteeeta eno___________', 'sae ne t  eeoela______________', 'setaasnart sa  nitisii________', 'eea ee  eteeee  aee___________', ' aa a  s tneenreeoe___________', 'a  e  o  nai   esnee__________', 'enin enin oot_________________', 'a eno enin____________________']\n",
      "1.0330535\n",
      "[' raa tor  nii tsit_rana_______', 'eno enin neees________________', ' e e  ni e t seaola___________', 'anooarrat ainolatai niaas_____', 'stseirr  o itiaa______________', 'eseet srossesoro eee__________', ' aee ni reerar________________', 'r r s nats____________________', 'nooraror n     s sa___________', 'enortne  arnaia e t___________', 'ta a  eees____________________', 'oot senioiiia ni______________', 'no se    ne e_________________', ' tii e t noitiooor ___________', 'ea r  tra reeneenesie_________', 'no  i ara retee_______________', 'no  nireeo o tiirr____________', 'a  ro   tier__________________', 'enneireeee eeran teee_________', 'sae  ennan ni_________________', 'eno enin enin_________________', ' na    oo ton_________________', ' etanieiro  nnora si_t________', 'ni a ra i is__________________', 'enin eein r oo________________', 'ot eenitnoo  nitaisnart_______', 'raee  eeiretearaar   _________', 'no etats ni___________________', ' na retsinii  o_______________', ' etaaa oo  rtnno_ _ti_________', 'e t aonee oooe________________', 't eie oot  is_________________']\n",
      "1.0483168\n",
      "['se etitta ni  sioat___________', 'nis noitatoon e t_____________', 'etaiiie  srettae  tii_________', 'ni eno t eie__________________', 'era   ee nnono________________', 'sreeaen  anoitiiia  anot______', 'sona   tii sii________________', 'roo  anoiier    oo____________', 'enatno ni neenno______________', 'eenen se at eea  _____________', 'no   etaeiiorr a  is__________', 'een  ron  tii_________________', 'o onas si e a ________________', 'enin  o eeo __________________', 'a reeron  ei r________________', 'i eno t eie___________________', 'tneeno eeee  na tiirr_________', 'tsrii rotreri   arenee________', 'stiiiie  ee  ot_______________', 'nareees seirtnno_  ni_____i___', 't eie s roo tii_______________', ' nats no e t__________________', 'eeit e t  rooten______________', 'noi saa e t  nansi____________', 'eniia eeir   t os_____________', 'e t setaaa t a________________', 'snrettaa taat  olo____________', 'nanirra  rotsii ees___________', 'nanretni sriaaia ni___________', 'eeonooe si   iiaee____________', 'enin oot   roo________________', 'eein oree oot_________________']\n",
      "1.0082217\n",
      "['eor  tneiina ani i____________', 'ennon eenoee  ni t____________', 'e t eeoo ni___________________', 'eein oot    o t_______________', 'roo rie t etetsii_____________', 'snoit o e t  irtreee__________', 'oot eno enin__________________', 'ee a reenan___________________', 'si sa ssolloo_________________', 'neeetee a to _________________', 'oree serteeoei  re ___________', 'etii eeeeeoo  o_______________', 'ronreeoe  o e t_______________', 'neea  na  asanii______________', 'ni  ar  rennisee ro___________', 'oot oot eno___________________', 'eninenir ni e t_______________', 'no e t    ____________________', 'a er  iaa ot__________________', 'e t  etinn setats_____________', 'eoosii  ra a ni_______________', 'renni enanr s re tar__________', ' eniae a  iiaa _______________', ' tii  eeiianoitiii seeane_ai _', 'nanirra ssertra eno___________', 'sae  e na  oo ot______________', 'reeo e t sre e o s____________', 'sae  etarae ani no____________', 'e t stneenreeoe  o____________', 'tne nene  no er ttt_ir_a______', 's riaa sneno__________________', 'ena essa eeaa_na_ senitior____']\n",
      "0.9262168\n",
      "['ni tooor   nnoo ra iiis_______', 'e t   o ee oee________________', 're ro ot tee__________________', 'on eno soono__________________', 'noit  oser eeor   i __________', 'ssaa si e t___________________', 'eno ts retaa__________________', ' tii  eenan a sraaar__________', 'n    _________________________', 'riooreser ta er taree et______', ' nooes eer t neees____________', 'een  ron  tii_________________', 'tnetsiienon airataraa  na ____', ' enioo     nooes______________', 'e t  ee o o___________________', 't eie eer t eno_______________', ' narroto   no e t_____________', 're naieea  ri les eno_________', 'tneeloo  at seeneeer__________', 'si t si  laaaorr______________', 'eno enin enin_________________', 'ee t    oo eeneireeee_________', 'ena  ni e t___________________', 'si e t enittes________________', 'enin nis oree_________________', ' nin a  en____________________', 'seaes  na seeeees_____________', 'eraanan eno nis_______________', 'neeoo  s eeo  na______________', 'iiaaa  saa  ee________________', 'ni aonee enati________________', 'enrooso  arn_   li ___________']\n",
      "0.95278424\n",
      "['sae i ni  iots________________', 'era ssooo t a_________________', 'e t eene neneeni  o___________', 'entnaae ereee eei e___________', 'enianoisaico  etttser ni______', ' raanats ssaa tnee rtsni______', 'ni oot oree___________________', 'ria ot ria____________________', 'e    _________________________', ' t  na a______________________', 'seei  ren  nooes______________', 'etisreeinn  o  en_____________', 'snanireea  a  ee______________', 'raee eiiaoe erret_____________', 'seiaai ot eea ________________', ' na retee ii__________________', 't eir seeats  o_______________', 'nis neees eis_________________', 'aiiroee osla  lits____________', 'e t tsoo eeisneeerr oo________', 'oree nosiile sai______________', 'ssenssestttiee  tii eeos______', 'eno enin enin_________________', 'no   eeoa   arr_______________', 'n oo  a  e nanireea___________', 'eeirrs  na ot_________________', '  ieno   nar__________________', 'oot oree oree_________________', 'e  rei ie o  riieesooi________', 'eeeatiolooe  arenii se_r_o_er_', 'oot oree oree_________________', 'nnsi oree enin________________']\n",
      "0.92697114\n",
      "['onee  o   itii________________', 'e t   o ee oeo________________', 'naeatroo  eeinno_er r ________', 'ena  eeeiiee si ______________', 'e t enisol  traa______________', 'ni  na   aiisi _______________', 'oree r oo e __________________', 'seeissii  na  ________________', 'r oo o oot____________________', ' noo riooreser ta_____________', 'e t tnenieorr srars___________', ' ron a onaoee ________________', 'ero  raiiiiaa  tii____________', '     as  eea ttee_____________', ' etaerr ti sa_________________', 'eno t eie eer t_______________', 'enireeo n  na tiirr___________', 'eno neees oot_________________', 'sreef s  orr   rene___________', ' na eeitaarooni  ooo__________', ' erono      anoitanretni______', 't eiis laaaiser etitar________', 'oree s ni_____________________', 's eno t eie___________________', 'niaatooo reeaaa eno___________', 'eenitnoo ereee ee_____________', 'ent eiis re eit naat__________', 'nis seitnnoo nia _____________', 'e  eeanee   s_________________', 'sti eer t tsoo________________', 'r oo e t tseeraa______________', 'eer t eno enin________________']\n",
      "0.92950755\n",
      "['eni rooca ot ni tooor ________', 'eono e t ennon________________', 'e t seeoo si _________________', 'ena   tria ot ee______________', 'eniee  eeroo ot_______________', 'sernee enioii_ni nre o _______', 'e or  si  nno_________________', 'oot oot seniine_______________', 'n oo oot______________________', 'er taren et  t e t____________', 'eorr e t stsaa i______________', 'si a renii ___________________', 'e t  aaisi  na _______________', 'e t senii roo_________________', 'a  irenee  oo ns______________', 'eno eno t eie_________________', 'tneenooeeee ni e t____________', 'eer t noitarirsni roo_________', 'seeatro s ti  eeitaairr_______', 'no a lirreee eeetarts_________', 'nen roo  niinitnoo____________', 'enisira  orr e t______________', 'tsaeaa eno enin_______________', 't eie eis  eeon_______________', 'enin nis r oo_________________', 'tnee  fo t o tii______________', 'rie t esolo eeitaaer__________', 'eenitra seitnnoo  o___________', 'etrar re aee ni_______________', 'tnatroo i troooe ssor_________', 'nnono e irr ree  n____________', 't eie t eie eeie______________']\n"
     ]
    },
    {
     "name": "stdout",
     "output_type": "stream",
     "text": [
      "0.85354084\n",
      "['onee  etaiaa er e t___________', 'eenoe  era ssooo______________', 're taa narn osnooa i__________', 'e t nnot  o___________________', 'eeooee a eia oe_______________', 'ertnnoo tsoo eno______________', 'eeenis nosaes  ro_er__________', 'sti  en  ot___________________', 'e oot  _______________________', 'naiitree siia si______________', ' naoo ee nees_________________', 'tiee tteeeo  nitiiro__________', 'no a  a  na __________________', 'ooaoi i  niiolloo e t_________', 'no e or e e t_________________', 't eie enin  nnerr_____________', 'inon ro naiani________________', 'nosniaor eosorr   ____________', 'e t noittairtsii  rooten______', 'reee  e siiaa   na____________', 'tneetie oo ot  itsitra________', 'tnaa ta t e t_________________', 'enin eno nren_________________', 'e t eenenis  o________________', ' ra  enarn  laaesaa___________', 'enitaasnarter eet seeat_______', 'e t eease est  _______________', 'aireeii aireeii si____________', 'ree ene  eno enin_____________', 'era ni re ro__________________', 'ta e t eeit___________________', 'enin r oo   eiisna ___________']\n",
      "0.83038986\n",
      "['ennetooin o  o e t____________', 'ssii ee ra  s_________________', ' a  ot etaasiiee______________', 'saer sre to  iaai_____________', 'e t eni   o___________________', 'enin neees oree_______________', 'rof s laa  niiooee____________', ' eees   a  oot________________', 'oot o roo_____________________', 'er tarer et eet  atnooiro ____', 'no retin n roo________________', ' nonee otol   na______________', 'na t  tii e t_________________', 'nosaes  na sia________________', 'noo  s si  niirocca___________', 'erin e noeeooan i_____________', 'erreela  aaniro  aiiooirtii___', 'neinaa eooe  naitsirrr________', 'ni eno enin___________________', 'si eeaaaiaaa eerr_____________', 'eooeerr  na e t_______________', ' trae seoo ton________________', 'ni  naireetiis  eeiiiiai _____', 'nae   naatiaa e t_____________', 'reeain eno enin_______________', 'e   a  tsol___________________', 'inno   a  ee__________________', ' e i i  otni eno______________', 'enin enin  na_________________', 'oooaaot aet  na_______________', 'no sti ereeoosii______________', ' ra rir eno enin______________']\n",
      "0.82250935\n",
      "['etats sti noitneeretni________', 'ottoo ni  areees______________', 'na sao rone tnnooa____________', 'ti sai ni_____________________', 'ennarr  essfer sreeeal________', 's eeets eeaa__________________', 'e t tsrii reeala______________', 'oot  laoo ee__________________', 'enn aae e t eninrnn___________', 'siia si   ortne_______________', 'ena  s tnoo retta_____________', 'ton  eelortnoo   _____________', ' ooo   esti  i________________', 'toos no e t___________________', 'ot e t naenoroe_______________', 'eno t eie oree________________', 'nan ee  eeresso_______________', 'ea s  etrats e t______________', 'enin t eie  na________________', 'eniino stiet ee_______________', 'eettaa tsniaia  i srosne______', 'eea  a  ltieeree______________', 'e t een  nroo_________________', 'ensi  o t tii_________________', 'nis iis n oo__________________', 'sree ee  o e t________________', 'nroo    re tie________________', 'eein seitnnoo i oo____________', ' eeres ni si t________________', 'raeas iialaa s________________', 'oot oot r oo__________________', 't eie eer t enitra ___________']\n",
      "0.9169006\n",
      "[' na noitatneeiier  na_________', 'no e t s ooo__________________', 'fo seeeeieirr ot______________', 'tnaf s oooir ti_______________', 'noissiirer ot eeitiarr________', 'ena  stnairaa  o______________', ' tii reeo oot_________________', ' esaair   ta e t______________', 'no enanorr si_________________', 'e t tonrar eecec______________', 'e t ttaa i  na________________', 'sennanoser  tii enntten_______', 'ee t  aer e t_________________', 'retsor saa  eeal er___________', 'noissii oo a noitaniiio_______', 'r oo eno t tie________________', 'no a eeenis___________________', 'eensiaa  aer t ertss_ni_______', 'seireeiie  era eliiaets_______', 'e n ara eee  na_______________', 'eeos  o e t___________________', 'naiirtee es laiireets e a s___', 'e ii  ee tteeorr______________', 'si e t enittes________________', ' nasai nacireea rot_a_________', 'no ro    r  c eeeiiee_________', ' eirra   na  eirra nn_________', 'etnnoo  noo  tnno_____________', 'noitisoo  itnn  cra __________', 'tne iserr  ltnener  eerr______', 'oree eer t tis________________', 'eeaaenai roo srenninee________']\n",
      "0.84885633\n",
      "['oeeiaaior  e t etnniereeos____', ' na seirots seieo ____________', 'e t   r  c eseht______________', 'si nnono reeeeo ______________', 'ni  en ennarr_________________', ' nor  na  lor_________________', 'oree oree ni__________________', 'enirr  o a____________________', 'n eer t  _____________________', 'ne e  nitia sa________________', 'sreeresso  eeirrsed  e t______', 'sonaoeeeo  eelai osla_________', ' ooo  e t  laoo_______________', 'en  eea oi cceelee____________', 'fo e t  eere__________________', 'eno r oo  na__________________', ' nnara tsrii na_______________', 'era  rossels eranoissii_______', 'eninorr i aiiroee si__________', 'oa   nooee no_________________', 'niiiie s snoisaico era________', ' na  orr sessaa_______________', 'oot sraee retta_______________', 'fo naiiai senraa______________', 'eno enin nis__________________', 'taat esott seeat______________', 'neeoo netto soneirr___________', 'aiooraae  tnnoo  nar__________', 'oot oree oree_________________', 'sreerar ot re isnoo___________', 'eein t tie eer t______________', 'nanosren rettt oo enii_a _____']\n",
      "0.76517653\n",
      "['fo e t  aro __________________', 'teraera   rofretttr sa________', 'enlaatneee  etaerr a__________', 'taat e  saa___________________', 'os oiio tac stseirr___________', 'natee  nnn eaeeer_____________', 'a nosaes  na__________________', 'oot oree tnenrer______________', 't eie eeii o__________________', 'a taeh eninne_________________', 'sa ero   lisae________________', 'naiissali rerii  tlee_________', 'ee ni rof_____________________', 'e t eno enin__________________', 'nolisse sa a__________________', 'noenooan iii eno______________', 'ennenseroloni  o etite________', ' na etaioooa rof______________', 'eninnin sti seto _____________', 'aalirreee erarraa era_________', ' etsii eolee er adara_________', ' n s sa e t___________________', 'eit srenren eee_______________', 's  eeon  naline_______________', 'tteie  aaa ttaiaooo___________', 'era er ttirrs taat____________', 'fo e t e ira__________________', 'assaa  tnnoo  narr____________', 'r of e  eeacee________________', 'eniioro re to ssor____________', 'eno si  nnoo__________________', 'eeaaenal  nii arrorr ro_______']\n",
      "0.75837386\n",
      "['eal  o e t____________________', 'ssii ee ra   euo tla__________', 'etats ni tii e t______________', ' eeittaa ni sser______________', ' na  i ii  al_________________', 'naos  na  nnn_________________', 'eni ne e t nosaes_____________', 'noitio er  o e t______________', 'oot eer t oo__________________', 'stsisnoo  o e t_______________', 'enaisii neee na t_____________', 'stieeao eea  i es_____________', 'eeos sesirrrrs rof____________', 'eein oot sffooala_____________', 'nnis  o e t___________________', 'tteie eeii oot________________', 'sreeolf  ellai a______________', 'neeoo s stttir________________', 'rof  nol  ret_________________', 'osla eeaaliaaa n oo___________', ' raaa e t erradara____________', 'noo    i   oo_________________', ' a  nnnen  nitaerr____________', ' naiine e t  nalsi____________', ' sitira rotca eno_____________', 'saa ton tee___________________', 'nlii raee  ___________________', 'enan tnno   tnnoc_____________', 'eeirr retsinii  o_____________', ' n s sa nottoo________________', 'en  soo  el nii_______________', 'e t irata ci _________________']\n",
      "0.7450783\n",
      "['laaaiiiini e t stsittaaana____', 'raaa oo  orf re ______________', 'etats  tii laaatroo___________', 'a eaa retfa___________________', 'seiraton eree  ess____________', 'neee  eoo t e t_______________', ' tii oot eer t________________', 'a eno  _______________________', 'oot r of  ____________________', 'eniiolloo ssets elaisreeer____', 'eht taere  er_________________', 'rooa  seea ni_________________', 'enn aae aeniilid ro___________', ' er taee eht trats____________', 'tteiee fo naenoroe____________', 'eno t eie neees_______________', ' aeh si  ecodorr______________', ' teeaeile ssetnnoc  o_________', 'ereeooer no e t_______________', 'stae  etoro ttooa_____________', ' raaa ni oot__________________', 'ton  rof trar_________________', 'l t   ttt  na_________________', 'osla ser taee ni______________', 'enin nis enin_________________', 'neee  eeaeeer ot______________', 'iino  ta seniidee_____________', ' narn  e ee etnnoc____________', ' naaoo ni ree ettes___________', 'sa na eeitanretla_____________', ' na e t ss ii_________________', 'enn a erooo  oc  is___________']\n",
      "0.7504295\n",
      "['fo eno ois____________________', 'tsrif ecnaraerra ni___________', 's noitisoo sa_________________', 'sih  tria e t_________________', 'en e t lacol__________________', 'enaaoo ssaa si________________', 'oot si  latot_________________', 's taaaoc eenar________________', 'oot o e t_____________________', 'la rehtosi noisnaaie fo_______', 'toos ereeoosii teeoc__________', 'r of oree eeif________________', 'aenoola oenerol eno___________', 'fo a  er______________________', 'noitasiiiiii na e_____________', 'oree na ree erir e____________', 'retfa noitaailitref  cae______', 'dnalrehtts citsaisiatne rottai', 'tneenoleee   o na_____________', 'na nanireea aalirreee_________', 'oree oree oree________________', 'fo e t lacirehts______________', 'eht tsrif  ef_________________', 'n oo  a  nnn s________________', 'enleinaa siooesira nacireea___', 'nee  na taat__________________', 'dna snoittecer reht___________', 'dnarn  r  rtnnoc______________', 'oot oree oree_________________', 'ot e t ertnnoc________________', 'eeitarooalloc troffe shtria___', 'r of  na tet__________________']\n"
     ]
    },
    {
     "name": "stdout",
     "output_type": "stream",
     "text": [
      "0.6917922\n",
      "[' t er tnec e oroe_____________', 'eno enin eer t________________', 'a ertnnoc  l rif______________', 'tsitra s stnerar______________', 'enala oo sa etttsii___________', 'llits eht  raanats____________', 'fo oot eer t__________________', 'eht  f oot____________________', 'enn is  roo noitaane__________', 'eht sae ta____________________', 're a eo s e el enin___________', 'oree  a eenar_________________', 'fo e t nia ___________________', 'senii noitiiart eht___________', 'rof e oroe  na________________', 're nn e t snrelloenehoh_______', 'reeolf ssoleee  otni__________', 'ot eht  nalatih_______________', 'lanoitanretni noitatroosnart r', 're ael ni  lroo_______________', 'tnee ot nalraa________________', 'lle s eht laaa_irtnec_________', 'aee seean ta__________________', 'leeon e t eaa_________________', 'ssertra eno enin______________', 'sai tsol ne e_________________', 'ea  osla ee___________________', 'afol  tnnoc iaiira ___________', 'eno no  cra __________________', 's laaiinirr  orc______________', 'eno eeif  is__________________', 'eac srettt oc ro______________']\n",
      "0.7480715\n",
      "['era seeiteeos  ere isnoc______', 'oree enan elnra ______________', 'dehsiiaatse osnooa ii_________', 'osecnarf   aa arres___________', 'noituloser secr oser r a______', 'ssaa tnee rtsni ni____________', 'oot s laa saa_________________', 'oot si na_____________________', 'rof eht noitssa oc____________', 'eht to  er tarer et___________', 'ls enin saa___________________', 'dna e ilnn otulo______________', 'sretcaraac fo eht_____________', 'ss otco oor t eht_____________', 'eht lellaraa senii____________', 'eno t eie neees_______________', 'a e  r   na___________________', 'secnaraelc allets tnannet_____', ' euor t eht ee _______________', 'raa oot lenoloc_______________', 'nosille  na irar______________', 'enrof  orf eht________________', 'nren ni  nalreetiis___________', 'fo eht sdiifirt_______________', 'neees oree nattssm____________', 'eht leena  oot________________', 'nroo ot la rof________________', 'etnnoo  nalira  rtnnoc________', 'oot ois oot___________________', 'oocaaot sa etteraeii__________', 'neees  sittaa oioualc_________', 'enihca  eeaa_nal  niimarrorr__']\n",
      "0.7140612\n",
      "['ot ee ssoioiler_______________', 'daa ot tiai___________________', 'der ooae ne ot ne aee_________', 'dna ainotna tenroc____________', 'si ellarenee  eifissali_______', 'lartsehcro sonittes eeos______', 'eno oree eeif_________________', 'eeitanretla lasooorr lanoitiid', 'fo a nooracordr ______________', 't   la rehtosi________________', 'dereeocsid no e t_____________', 'oo ton ssorc__________________', 'eala si reeen_________________', 'renno fo a____________________', 'enissorc   uor t tni_nats_____', 'eno eno enin__________________', 'sa eht seturd_________________', 'le o  ees osla________________', 'ocala aes stroo_______________', 'lle nee eitref o o____________', 'e ssosar  ara re ots__________', ' trae s noitator______________', 'ni eno enin___________________', 'dna no is  ralc_______________', 'dee a inatsiiaa rete circ_____', 'eht setala  caa_______________', 'seitrar  cus sa_______________', 'ooarrestnoo  tnnoc aa in______', 'oree oree r of________________', 'noit   snoc ni eht____________', 'iareeetno  nailati resoo oc___', 'rof cisaa eeaaenal____________']\n",
      "0.60726434\n",
      "['srennnrerof fo nredo _________', 'etriht oot sraee______________', 'eht reeoo fo__________________', 'nartree  too e ac_____________', 'otni ta tsael_________________', 'etal oot oree_________________', 'ero  na t eht_________________', 'stneeecnahne  luoo e ulcni____', 'si leef neenno________________', 'taeh noitiida  nirrd__________', 'ttein fo  cra ________________', 'enntten s tiaro_______________', 'nees ni eht___________________', 'lacol  sii te ra _____________', 'rof eht etiliaats_____________', 'eno t eie aiani_______________', 'dnaaoe eeht etannoc___________', 'tsil fo el oe ________________', 'fo   to_______________________', 'ni eno enin___________________', 'draaa eht laitnesse___________', 'dlaoo lla  a__________________', 'enin eer t eht________________', 's leenes ot___________________', 'eno enin neees________________', 'eorf   esoo nehe______________', 'salaa eease ust a_____________', 'etnnoc reeir ssec_____________', 'eh  ecnnonna sih______________', 'tsee seenitnoc ot_____________', 'd eno ois_____________________', 'sree arrorr oroosneere  tron__']\n",
      "0.67914236\n",
      "[' sihcrana  nartree llesssr____', 'rof reh tsrif_________________', 'eht eerelc  na________________', 'eorf seiliiaa fo______________', 'eerht setntaus noitaitooen____', 'ht er tnec sresoo oc__________', 'tten tsesolc redael___________', 'orooten cirtnec seitiiiiaaac__', 'taeh retae noorac_____________', 'siht  ets a___________________', 'oot r of eno__________________', 'eht  do e an__________________', 'oooo ni eht___________________', 'eer t eno  orf________________', 'fo eht oroe___________________', 'rednn eht  sitira_____________', 'eere  otni a__________________', 'ea etilanoitan tsil___________', 'i  na i ataa__________________', 'raof oot  eeinanro____________', 'nosille tsee noitcelloc_______', 'nosrer sdraatuo tua___________', 'lanoitan retnec rof___________', 'ti eht tttin__________________', 'eno neiaaf  ehtraa____________', 'eh  ehsinif sih_______________', 'eease ust saa ero ____________', 'etnnoc reeir eee______________', 'noitanniser sa eeirr__________', 'enilced ellanoitiiart iialaa__', 'raof eerht eno________________', 'anilorac etut oc snoitacilau _']\n",
      "0.6417171\n",
      "['ni sih  rotsih________________', 'eia neerrs ecnaraerra_________', 'ot el  a a____________________', 'shtiislatee  uaa eht__________', 'noitaiaee  na noitartiara_____', 'eeah  ess eht_________________', 'ecnal na  ren  dot____________', 'ria ot ria____________________', 'ediioio noitsuamoc fo_________', 'ot a no_______________________', 'enin enin eerht_______________', 'si  eeired  orf_______________', 'leeon ehs si__________________', 'eht sdnats dna________________', 'eht naenoroe noissiimoc_______', 'nar  tii  sitira______________', 'elnitla    self tiirf_________', 'fo senio fo___________________', 'eht eniioro edart_____________', 'a eeral ecrof_________________', 'eno enin thtie________________', 'neee ta eht___________________', 'enitu  ocre us snoitacill a ta', 'fo eht sdiffirt_______________', 'hcnerf rellaatoof eno_________', 'noitalsnart neeetee neht______', 'tsedo  snrettaa taat__________', 'etnnoc eonis etnnoc___________', 'retsinii eeitceffe ea ________', 'sah neee fles_________________', 'neees oot oree________________', 'cni thtirrroc eno_____________']\n",
      "0.69087714\n",
      "['fo nretsee ehtosoliht_________', 'nehe ehs eda _________________', 'noitroo fo eht________________', 'tseennoe fo eeif______________', 'seeiteeos a  truof____________', 'cirtcele ssaa ni______________', 'notleh  na eaaoo______________', 'tneeeeaene eeitca ellacinortce', 'diinil sleuf noitsuamoc_______', 'eareaia eht enidnaaie_________', 'ea eht sre a eohs_____________', 'eht tsrif snart_______________', 'eltnatsnoc de ooni en_________', 'otno eht eci__________________', 'osla deifice s a______________', 'hcrano  sa rorer e____________', 'dellac a  racnns______________', 'eht stci  tsil________________', 'tiiife   niinitnoc smelaorr___', 'fo sallirreee o o_____________', 'neees nalraa nosille__________', 'rotaaae siht ecrof____________', 'eht etisreeinn fo_____________', 'treeor  cinner sah____________', 'enin neees eno________________', 'dna eht enirrs________________', 'reeoc ssel aera_______________', 'ehrarroee  a  fo______________', 'oot eht ead___________________', 'tneiiifffs ni sti_____________', 'nailimiiam lleh nai aaols_____', 'enin theie eerht______________']\n",
      "0.62421685\n",
      "['setirr taht eht_______________', 'ti eht stluser________________', 'sso rone seeneeer fo__________', 'dnnof flesmih elaanu__________', 'ennt noitailiinoc si__________', 'na lartsehcro  nittes_________', 'ueraa o o lla_________________', 'dennacs earra raaar___________', 'fo a  ianil___________________', 'sae sessac eht________________', 'dna e el o o__________________', 'nainntten tceeno  nuof________', 'noo etooiin sa________________', 'eht thtie seel________________', 'orue oool  tii________________', 'fo aiani eno__________________', 'sselaees stiirf ssensseldees__', 'fo shcrano  fo________________', 'htii oat noisaae______________', 'dessarah eht esenaaaa_________', 's enihctaa tses_______________', 'strese elno oree______________', 'sionilli ta anaara____________', 'nettirr a seires______________', 'enne   aheninnnc  siri________', 'fo eno thtie__________________', 'elniam  olee eht______________', 'aireail niam elcitra__________', 'retfa dnaloo e acee___________', 'elnats doof eeiam_____________', 're onortsa d eno______________', 'llaas  etsss seciires_________']\n",
      "0.61800206\n",
      "['stsittaaana detaiau er lla____', 'eree enitnioooasia ot_________', 'eht cilo tac  cruhc___________', 'ot eala  tii__________________', 'dedulcni sa llee______________', 'eeolo ete ereht si____________', 'dah eno oot___________________', 'deeorr i eeisnefed smetsss____', 'leuf ni na____________________', 'notsis ot oo__________________', 'eree enitcudnoc a_____________', 'retal stceeao eree____________', 'sih edal tua__________________', 'eree ciloo is fo______________', 'tcaae snoitrooorr dna_________', 'theie neees sis_______________', 'si na tnatroo i_______________', 'dnaltocs  sittocs nacireea____', 'dna noitturroc dna____________', 'noitaaucco secrof no__________', 'non noitcif eno_______________', 'eerht fo eranidro_____________', 'nniaa aac desaeler eht________', 'fo eeitceted srellirrt________', 'rellaatoof eno enin___________', 'oot enin  tims________________', 'tsiai naht eht________________', 'ehrarroee fo aireeil__________', 'a ree e  fo___________________', 'dna enirud eht________________', 'neees enin oot________________', 'cni nnsi oree_________________']\n"
     ]
    },
    {
     "name": "stdout",
     "output_type": "stream",
     "text": [
      "0.62546194\n",
      "['eal ecnis eeht________________', 'htoo eitsirhc stsirur_________', 'ot sesooru  fo________________', 'sdneirf sih eea_______________', 'tua rof tneserr_______________', 'hcu  etaaed eno a_____________', 'neees dedulcni ni_____________', 'dna enineno  u________________', 'eniridiio erehrsomta ellaatca_', 'oroo no eht___________________', ' areorr fo snoitaaresso_______', 'dellac an eno_________________', 'reeen sraerra  niiolla________', 'eht thtie fforall_____________', 'dnnoroerof dnuor_ caa ruoloc__', 'eno enin ruof_________________', 'erutaef fo e os_______________', 'stocs receeeen hsittocs_______', 'lacitiloo seitniatrecnu duolc_', 'eht enin ilih  dnalsi_________', 'enin theie enin_______________', 'htrae etitare eollo __________', 'ciaso   ee ressora____________', 'tes no eht____________________', 'neees eno a iron______________', 's noitatcid saa_______________', 'ero  lamrof  _________________', 'aireail si detautis___________', 'naenorue noinn sih____________', 'eno enin thtie________________', 'eno neees neees_______________', 'enin ruof oot_________________']\n",
      "0.6029302\n",
      "['dleh taht eht_________________', 'dna eitsirhc flesreh__________', 'lanoitan ntilitu eseht________', 'essacea fo  sitamuehr_________', 'sesooru  ti nac_______________', 'snaiciss  dna snaf____________', 'sdnoo oot oree________________', 'enitsiie lanrette drah________', 'snen ah ni eht________________', 'senidnnorrus eht saa__________', 'dennised ot reeocnu___________', 'o s ro________________________', 'sih ciloore rh stnemetats_____', 'snii ti  oot__________________', 'senot heuohtla eeos___________', 'neees naisssr erir e__________', 'stiirf fo ecre moc____________', 'naiaanac stsil fo_____________', 'eht trohs  ret________________', 'fo oanaanim lla_______________', 'eit otsife  ni________________', 'htrae smialc lanoitneenoc_____', 'noisree eno oree______________', 'dnalsi enidulcni eht__________', 'araaiiuf esenanaa ssertca_____', 'cidaroos no lirra_____________', 'iino  neht eam________________', 'ni nretsee acirfa_____________', 'tne nreeoo deretnuocne smelaor', 'oree s detroooe_______________', 'eerht ecnirr snemel __________', 'eerht thtie tis_______________']\n",
      "0.6016766\n",
      "['dooo nam llii_________________', 'redru  ehs dias_______________', 'snoitca del ot________________', 'enien ni  cus_________________', 'ee dedraeer sa________________', 'fo eht tne urtsni_____________', 'oree ruof latot_______________', 'stnioo rof lanoitneenoc_______', 'sae esaht i___________________', 'noisnaaoe si delle orr________', 'raen htrae stceeao____________', 'sonaaeauc stcetao deifitnedi__', 'fo reh etuaea_________________', 'ot nii eht____________________', 'tnof srennised nln is_________', 'rednu eht ssonamor____________', 'laicre moc sraaitluc fo_______', 'hsitira el oe  stsil__________', 'ci onoce erutci  reeeeoh______', 'eht eae  u____________________', 'snno tses alleeon_____________', 'eollo  shtrae elrae___________', 'dna ea etal___________________', 'nellaf ni oidar_______________', 'dna noisiselet etilanosrer____', 'neees eno thtie_______________', 'osla ee nroo__________________', 'eniredroo eht htron___________', 'dna etirala oonu esuacea______', 'laitnatsaus seititnaun ot_____', 'leenee noo  cinrettee_________', 'eno eno ois___________________']\n",
      "0.4778498\n",
      "['en dediue ta__________________', 'eno enin nis__________________', 'a suoires citamol id__________', 'niaa eh sas___________________', 'a  rof fo_____________________', 'tuooa tahe ot_________________', 'eree eno oot__________________', 'snooaee stinu neees___________', 'e ti si_______________________', 'en noittrossa fo______________', 'eht teeoc sas_________________', 'sa sonaaeauc edulcni__________', 'dna eutrir ot_________________', 'eelnats  uc ta________________', 'dei oc eht tcaae______________', 'eno neees oot_________________', 'sananaa dna selspaenin________', 'fo el oe  nn__________________', 'deei er tnemtseeni dluoc______', 'ot eht noitareeil_____________', 'eno enin enin_________________', 'erotsih ni tneicna____________', 'eno enin enin_________________', 'seires ssoluaen eht___________', 'eno enin nenes________________', 'oot enin htims________________', 'en deirram dna________________', 'citnalta naeco eht____________', 'fo heih tnemnol  enu__________', 'sti thtuord ne cirts__________', 'nairtsua namsetats d__________', 'soar randor eno_______________']\n",
      "0.5435893\n",
      "['ereee tne om nn_______________', 'oot detcerid rn_______________', 'tcilfnoc neeetee eht__________', 'elerar elaa ot________________', 'noitaidem eht tneilas_________', 'llac eht tnemurtsni___________', 'oree lanoitnetni solaa________', 'ht a oo enii__________________', 'eht ruooa  taht_______________', 'taeh  orf eht_________________', 'suht a suotitidneres__________', 'eht tseeral nnono_____________', 'oo detsetnu enineno___________', 'eht e it eeht_________________', 'enahs fo siht_________________', 'eno eno enin__________________', 'era sseldees e os_____________', 'etilanoitan stsil fo__________', 'ru s reheih ci onoce__________', 'fo eht seninpilih ____________', 'eerht eit enittahc____________', 'se it eht aedi________________', 'ruof ereht sas________________', 'elsi fo thtii_________________', 'oot noo hciernedieh___________', 'sas denioo ni_________________', 'deirramnu nemoo iiumori_______', 'enacsdnal si desiretcarahc____', 'elaissoo  nidnens stuc________', 'srooheien erutlucir_a stneserr', 'eno theie eeif________________', 'enin theie eerht______________']\n",
      "0.5552264\n",
      "['eht eloh tirirs_______________', 'eeroee  colloo sas____________', 'enoo dna laautroo_____________', 'olaa no toof__________________', 'serutaef fo hcae______________', 'elihe ssaa ratiug_____________', 'eht tsom deussi_______________', 'sseed afa eneliaa_____________', 'snrua ton eht_________________', 'heih erutarer et riooreser____', 'ereeocsid tua eno_____________', 'onaeeauc dna eno______________', 'ecnetnes setnaarec nod________', 'ttees htoo fo_________________', 'oool sa eht___________________', 'eno nenes naeroo______________', 'sraaitluc fo surtic___________', 'hsittocs el oe  dnaltocs______', 'hteoro ni oot_________________', 'ni eno enin___________________', 'htii siauna tses______________', 'fo naenarretaus smlaer________', 'eniioro cilau  tseretni_______', 'sah neen nltnedicca___________', 'nacirema lanoisseforr reltserr', 'eno rah nn a__________________', 'elenis deroloc ono i _________', 'en nltsom talf________________', 'noitturroc sladnacs tsom______', 'eerht thtie tis_______________', 'enin eno theie________________', 'enimmarnorr eht tis___________']\n",
      "0.53665316\n",
      "['morf siht esimerr_____________', 'eht tsrif fo__________________', 'retfa enien detacinummocce____', 'dna sas decrof________________', 'ennt era sa___________________', 'decnuonorr esaa si____________', 'ecnis alm nanen_______________', 'saset enin ht_________________', 'diunil erofreht a_____________', 'elaisreeer citaaaida noisnaaie', 'taht el ciun deeodahsreeo_____', 'fo eht tseeral________________', 'etooiun eno ois_______________', 'rieht stnenoopo taht__________', 'orue nnis ni__________________', 'erir e enoooo eno_____________', 'stiurf nllaice se leean_______', 'detaler stsil hsittocs________', 'oree oree oree________________', 'ruof eeif sih_________________', 'trohs erots eno_______________', 'de ees elaaugra dna___________', 'ni eht nlsuoi err_____________', 'detareetnisid nn rosseforr____', 'eno enin nenes________________', 'een enircs reeilo_____________', 'taht eam en___________________', 'ot enillor latsaoc____________', 'nlaaton eht eel_______________', 'fo eht  dg____________________', 'eno nenes htanardnened________', 'eeif oree oot_________________']\n",
      "0.5127235\n",
      "['neht eeirra ta________________', 'ruof hsitira  gm______________', 'rof sih seiticadua____________', 'ot edir a_____________________', 'ssollof ni noitaitooen________', 'nllarenee gni aens a__________', 'enidrocer  eht eletaraaes_____', 'amoo nordauns oot_____________', 'diunil llii ellamron__________', 'fo eht sag____________________', 'eht stluser  orf______________', 'snart nainutten stceeno_______', 'oree eeif laniiiro____________', 'raee eno enin_________________', 'rieht stnof tsom______________', 'theie enin nenes______________', 'seenaro dna niradnam__________', 'elpoep siht si________________', 'ssahrer  u ot_________________', 'seitiliaa eree retal__________', 'enin enin eeif________________', 'e acen deniitretni htii_______', 'ci edaca lacinhcet tenretni___', 'suoluaen elihe eh_____________', 'eerht nairda sunna____________', 'nredeoc nredeoc eno___________', 'nroo en deirram_______________', 'snial  hcihi esir_____________', 'niinr riaffa dna______________', 'stnuocca rof reeo_____________', 'erooat naidni suoiiiler_______', 'htruof noitide teens__________']\n"
     ]
    },
    {
     "name": "stdout",
     "output_type": "stream",
     "text": [
      "0.44863796\n",
      "['msinummoc eht sreegid_________', 'snoitcudorr gnirrats emad_____', 'nn enoo suironoh______________', 'ne nod nehe eh________________', 'noitaaicitrar si iratnuloo____', 'ero  no moc  ret______________', 'ni eno enin___________________', 'theie ht amoo_________________', 'hctac erif nlno_______________', 'rof siht  ets_________________', 'rieht niam gninresso__________', 'elaaton rof sti_______________', 'eltit eeap ne_________________', 'eeif oot osla_________________', 'dennised rieht nno____________', 'eno enin oree_________________', 'seenaro elaat separg__________', 'a tsil fo_____________________', 'sis ni retaere________________', 'deeilitu en eht_______________', 'efil tnemeeeihca draaa________', 'eht ttecnoc fo________________', 'nn eno enin___________________', 'sas eniirt ot_________________', 'nairaanuh etelhta eno_________', 'theie eerht ruof______________', 'dna deirramnu nemoo___________', 'ot enillor uaetalp____________', 'rellim s troopus______________', 'theie oree fo_________________', 're rofer d eno________________', 'cni nnsi oree_________________']\n",
      "0.41552633\n",
      "['ro eurt srelleeel_____________', 'teraeram drofrehtur a_________', 'iii osnofa ii_________________', 'detnae ot oo__________________', 'dna ereht si__________________', 'eno a non snaicisum___________', 'eeif ruof sdnoo_______________', 'nordauns oot thtie____________', 'eeooa a niatrec_______________', 'a ot c________________________', 'margorr eht ereeocsid_________', 'oot snoo  dna_________________', 'nu ragul ed___________________', 'eas eht gnissaa_______________', 'stnairaa netfo desaa__________', 'nenes dna gnoonus_____________', 'tiurfe arg dna snolemretae____', 'elaaton htuos snacirfa________', 'htted aiiroee s_______________', 'detinu setats emra____________', 'eno enin enin_________________', 'secal  hcus sa________________', 'enin nis eht__________________', 'eeo  ti nlthtils______________', 'enin nenes sis________________', 'o eno ruof____________________', 'neht era elniam_______________', 'dna eol sniatnuom_____________', 'rof u s_______________________', 'eht rooal ecrof_______________', 'enin oree eeif________________', 'theie enin eeif_______________']\n",
      "0.42388773\n",
      "['eree na nlrae_________________', 'tnecifinnam cimoc ssertca_____', 'desimorr ot e am______________', 'erehenna edistuo sih__________', 'on driht ntrar________________', 'srehto referr cirtcele________', 'osla sah eht__________________', 'ht amoo gnii__________________', 'erutarepmet sti hsalf_________', 'no  argaid ee_________________', 'sas decnuonna ni______________', 'di ar noitator eerht__________', 'al ahcnam ed__________________', 'fo semaa sirron_______________', 'noou eht lati ac______________', 'eno enin oree_________________', 'era deulaa rof________________', 'htii aidepi ii selcitra_______', 'cimonoce nreeocer sah_________', 'nehe gitref depleh____________', 'eeif i eeah___________________', 'eht  eerg sedah_______________', 'droo tenretni sas_____________', 'ot eht tfel___________________', 'uaonihs eooasa esenapaa_______', 'nn ta tsael___________________', 'nroo ot aet___________________', 'ni eht tsaehtron______________', 'tnediserr egroeg e____________', 'dna stneserrer tuooa__________', 'eno thgie eeif________________', 'theie thgie eno_______________']\n",
      "0.41904056\n",
      "['citsinummoc tnemeeom gnirud___', 'tua oot suoretsioo____________', 'sdnema ot eht_________________', 'emoh taht eh__________________', 'ohe rehtie setatilicaf________', 'ssaa ratiug cirtcele__________', 'oot dn dna____________________', 'htrooslle afa di ar___________', 'tnioo eoleb taht______________', 'emussa eht notsip_____________', 'uai ralucric eeif_____________', 'enin h eeif___________________', 'oeuc ernmon on________________', 'rs htii sih___________________', 'rettel c ni___________________', 'nenes eno enin________________', 'rieht ssensseldees ni_________', 'scimedaca lacidem dna_________', 'neen derepmah nn______________', 'dnuof eht detinu______________', 'on htuom dna__________________', 'eht cidron  iehflatraas_______', 'no moc cilau  ncnerruc________', 'ni eht emag___________________', 'sinnet renalp eno_____________', 'taht emit htims_______________', 'seinomerec eht dend___________', 'eht etamilc si________________', 'hsua nlralucitrar eht_________', 'theie oree fo_________________', 'sis l  narf___________________', 'eerht eeif nenes______________']\n",
      "0.4410983\n",
      "['eht emit fo___________________', 'dna duol rof__________________', 'hcruhc tua eh_________________', 'deniamer esolc ot_____________', 'eht noituloser ssecorr________', 'ssaa ro elpmis________________', 'eerht dr tsehgih______________', 'ntic htuos atooad_____________', 'erutarepmet eht diunil________', 'dna rednilic era______________', 'nenes oot eeif________________', 'oree oree oree________________', 'oreiun emradroca on___________', 'rethguad etirugram gnimoceb___', 'eht eeitcepser tnof___________', 'eno oree srorepme_____________', 'emos seiceps ssensseldees_____', 'stsitneics naitse etilac______', 'eht tsitarares setupsid_______', 'setats emra laiceps___________', 'i tsum maercs_________________', 'eht hsiieh loehs______________', 'tua ti derrefer_______________', 'tirirs fo eht_________________', 'enin nenes enin_______________', 'deeeileb taht eht_____________', 'olis eam en___________________', 'laci ort toh dna______________', 'nacirema del raa______________', 'lla stropoe nlraen____________', 'muaa nacirema rohtua__________', 'soar nandor eno_______________']\n",
      "0.3825536\n",
      "['eht hsiline li ic_____________', 'eht mirr dna__________________', 'deid ni eno___________________', 'emoh deeolla mih______________', 'ro sesopmi a__________________', 'ssaa enam era_________________', 'elenis nosaes lanoitnetni_____', 'eerht ruof ht_________________', 'llii ton etaropaae____________', 'nllamreht detalusni os________', 'no hcram oot__________________', 'oree raoaun oot_______________', 'ah ohcu  o meit_______________', 'tnediserr dna ronreeoo________', 'eht noitartsulli ta___________', 'fo trohs deeil________________', 'si eht tluser_________________', 'cimedaca eno enin_____________', 'ni airah aa dna_______________', 'erafraw loohcs ta_____________', 'tses rehto aidem______________', 'dna eht naitsirhc_____________', 'tsomla eleritne ot____________', 'senots eht snamsilat__________', 'ndnar leahcimcm nacirema______', 'oroo ni hcihi_________________', 'derugif uenir ralimis_________', 'dimuh sretnii era_____________', 'tsniaga nari ni_______________', 'enin oree fo__________________', 'd eno enin____________________', 'enin thgie oot________________']\n",
      "0.40334564\n",
      "['raw dna era___________________', 'ehildria retcarahc eitsirhc___', 'oot oot eerht_________________', 'laitnatssus eerf emit_________', 'noituloser ni noitaidem_______', 'yppah ot esu__________________', 'olaa slatot htii______________', 'amob nordauns eerht___________', 'tsaf hguone ot________________', 'taht on taeh__________________', 'nenes eno enin________________', 'oree oree oree________________', 'eun  i  a_____________________', 'fo eht der____________________', 'eht pot fo____________________', 'seripme rorepme seunca________', 'fo epraconehtrap erehe________', 'ruof enin tnemelc_____________', 'htuos aitesso a_______________', 'trof ggara htron______________', 'oidua eno enin________________', 'lleh dnumde nellah____________', 'eht dlroo edii________________', 'era neddih no_________________', 'llaatoof reealp shtaed________', 'eh sas degagne________________', 'ot drauncaa tub_______________', 'yrd htii toh__________________', 'oot oree oree_________________', 'eht noitalupop segagne________', 'eno enin eno__________________', 'decna da sis eeif_____________']\n",
      "0.42310065\n",
      "['deredisnoc nb emos____________', 'detaerc siht tsrif____________', 'erofeb gni am nna_____________', 'ot eeresso erutan_____________', 'noitapicitrap si iratnuloo____', 'eht smret elbaegnahcretni_____', 'sis thgie ni__________________', 'nenes ht amob_________________', 'niatsus eht erif______________', 'si deniag ro__________________', 'enin eerht nltneunessus_______', 'oree anuraa eno_______________', 'nu ooladih ed_________________', 'sgnii gniiollof rehtona_______', 'siht noitces ssohs____________', 'i fo eht______________________', 'stiurf tes tuohtii____________', 'nntram e od tsiugnil__________', 'yltnetsisrep  aee cimonoce____', 'anilorac srehto dedulcni______', 'enin enin oouh________________', 's eroeht dnumde_______________', 'aee elihenaem reeo____________', 'eht elsi fo___________________', 'nenes sis nenes_______________', 'sae a eranoitulooer___________', 'sah on nltnereffid____________', 'siad dna looc_________________', 'eerht ni lirra________________', 'ni ecnetsissus gnimraf________', 'thgie eeif nenes______________', 'oree oot gnimmargorr__________']\n"
     ]
    },
    {
     "name": "stdout",
     "output_type": "stream",
     "text": [
      "0.40783426\n",
      "['sa srennurerof fo_____________', 'mlif sas desaa________________', 'suoires stpmetta ot___________', 'dna sti nnised________________', 'ni taht nene__________________', 'tua emos sserrre______________', 'oot oree oree_________________', 'nordauns eeif eerht___________', 'noitsubmoc fo dilos___________', 'tsol eht sag__________________', 'lareees rehto sreeresso_______', 'enin enif oot_________________', 'sol ed arnal__________________', 'ffoyalp tespu ni______________', 'eht laiciffo orue_____________', 'eripme fo itiah_______________', 'noitarilitref ci raconehtrap t', 'eno thgie enin________________', 'erutcurtsarfni ecnatsiser ot__', 'loc noraa  naa________________', 'drawa tneper niunelrah________', 'yellah ni eno_________________', 'eht esruoc fo_________________', 'thgii eht retupmoc____________', 'epop luap i___________________', 'dna suole ram  roo____________', 'deroloc snrettap nomoo________', 'ot dloc sthgin________________', 'oot oree oree_________________', 'redlohllams sremraf ecudorp___', 'animaillii gnimelf hsittocs___', 'sebns cni nnsi________________']\n",
      "0.28793046\n",
      "['nredom msihcrana ni___________', 'no eht eno____________________', 'od os osnofa__________________', 'ti sah neeb___________________', 'hguoht a truoc________________', 'a gnorts ecnereferp___________', 'oot dna sis___________________', 'd gnii nilge__________________', 'sleuf eht tca_________________', 'seunitnoc ot dnapoe___________', 'dnuof eht temoc_______________', 'eno soahc e if________________', 'ne orellitsa agrada___________', 'eno enin enif_________________', 'ogol on laiciffo______________', 'eno thgie oree________________', 'tes eam ro____________________', 'eerht eno enin________________', 'mrofer no eht_________________', 'dna loc llessur_______________', 'dias eht nam cot cit__________', 'sis enin oot__________________', 'eht edaced eht________________', 'emag nn erodommoc_____________', 'eno eno nenes_________________', 'fo noigiler dna_______________', 'enif nrettap ni_______________', 'sremmus era tee_______________', 'ruof rellim s_________________', 'a eteiraa fo__________________', 'nrob remonortsa d_____________', 'oree thgie enin_______________']\n",
      "0.37581176\n",
      "['eht nredom are________________', 'enin enif nenes_______________', 's stnednecsed osnofa__________', 'deeisehtopnh taht ti__________', 'yam etadnam eht_______________', 'rof eno ro____________________', 'eno ni oot____________________', 'bfa lf eerht__________________', 'fo noitsubmoc stsisnoc________', 'gniod  roo no_________________', 'ni segami deniatao____________', 'eerht eerht eno_______________', 'augitna cor n_________________', 'eerht ta eht__________________', 'noitadnemmocer si edam________', 'ruof eno thgie________________', 'yam ton eriuner_______________', 'thgie oree nalla______________', 'trap fo emos__________________', 'nnam cloo nnam clo  ni________', 'tseb trohs noitcif____________', 'lacih osolihp snoitcasnart fo_', 'tenretni nllufsseccus detadomm', 'si osla tes___________________', 'eeif ierdna n ssuulogoo_______', 'htims de eileb nredwoc________', 'hsilgne onomi  htii___________', 'dna nduolc htii_______________', 'remrof yrusaert retsinim______', 'sporc gnidulcni eeiam_________', 'eno enin eno__________________', 'eeif thgie thgie______________']\n",
      "0.35808757\n",
      "['eht tsrif ot__________________', 'le on ruof e if_______________', 'deirram acarru ssecnirr_______', 'saw siht erusopoe_____________', 'ssecorp flesti eht____________', 'rehto fo meht_________________', 'oree oree eerht_______________', 'eerht nenes ht________________', 'fo eerht yleeitaler___________', 'eht sgnidnuorrus eht__________', 'erofeb hcram oot______________', 'eno noilacued stibro__________', 'ocalf y oglag_________________', 'sdnah fo eht__________________', 'htii drager ot________________', 'oree sis rorepme______________', 'noitanillop tsom sseldees_____', 'doelcm  camroc tsicisihp______', 'tpurroc dna nranoitcaer_______', 'ralucitrap dednammoc a________', 'eno enin nis__________________', 'laior yteicos fo______________', 'eht ytirooam fo_______________', 'no eht elsi___________________', 'naissur ecnirr eno____________', 'dah a rebmun__________________', 'a llams detaeper______________', 'tneunerf ynaeh sreeohs________', 'seii ea  eramrca _____________', 'nroc snaeb ecir_______________', 'eno eno thgie_________________', 'oree thgie enin_______________']\n",
      "0.33204016\n",
      "['esu eht mret__________________', 'oree morf notgniddap__________', 'fo elitsac rethguad___________', 'ot erutan ta__________________', 'seitrap era ton_______________', 'rednef s ylrae________________', 'eh sah neeb___________________', 'tset dna noitaulaae___________', 'tcnitsid tub gnippalreeo______', 'sag noisnapse sesuac__________', 'ruof gnidulcni  ______________', 'egral sonawebuc dna___________', 'roderroc ni emos______________', 'sniura eht der________________', 'eht esu fo____________________', 'nitsugua fo eht_______________', 'surtic stiurf eriuner_________', 'eno enin oot__________________', 'snoitcaf dna eht______________', 'allirreug ecrof hcihf_________', 'sis i e ah____________________', 'nodnol tup htrof______________', 'ylsuoi erp gnitsiie cilbup____', 'fo thgii ni___________________', 'eno enin ruof_________________', 'fo stfig taht_________________', 'nrettap tuohguorht eht________', 'ymonoce niam elcitra__________', 'eon ni a______________________', 'a assac occaaot dna___________', 'eeif enin erreip______________', 's lanretse sonil______________']\n",
      "0.33669287\n",
      "['ot naem gnihtemos_____________', 'u s eltit_____________________', 'fo osnofla iiiv_______________', 'na ylrae ega__________________', 'deriuner ot hcaer_____________', 'ecnanimod ni eht______________', 'eht eugael redael_____________', 'nordauns ssend bfa____________', 'sesahp gnitaeherp esahp_______', 'ti ot looc____________________', 'etadne morf a_________________', 'sonitulp tsom lacissalc_______', 'egalliv ni al_________________', 'sgnii noo  caa________________', 'a tnec ngis___________________', 'tsrif naciiem eripme__________', 'a noitanillop sulumits________', 'ruof eno enin_________________', 'naissur dna naisa_____________', 'detarepo tuo fo_______________', 'on htuom dna__________________', 'eht aedi fo___________________', 'retupmoc s rooten hguohtla____', 'eht rotcod ohe________________', 'rorepme gnoroaii fo___________', 'dluoo dia ni__________________', 'tnemrag taheemos lausac_______', 'ymonoce fo airebil____________', 'retnilps tsilaicos ytrap______', 'stundnuorg stunaep eht________', 'eiruc hcnerf tsicisihp________', 'eww sis evif__________________']\n",
      "0.35620022\n",
      "['rehto naht soahc______________', 'tahe srm ydducilligcm_________', 'gni  fo elitsac_______________', 'taht nageb ot_________________', 'a noituloser dna______________', 'tehram rof ssam_______________', 'ni eht yrogetac_______________', 'saset snoitacificeps b________', 'nehe eht denrubnu_____________', 'ot eht dloc___________________', 'hpargotohp desopoe no_________', 'repiu  stcehbo era____________', 'ahcnam esohw eman_____________', 'ot  caa yelnats_______________', 'dna smus era__________________', 'eno thgie oot_________________', 'sananaa dna selppaenip________', 'enin thgie maharaa____________', 'cimonoce sesirc rednu_________', 'eht arellidroc fo_____________', 'i tsum maercs_________________', 'htrae gnitsisnoc fo___________', 'emos sorooten hcus____________', 'edosipe rehtaf s______________', 'anihc b eno___________________', 'eht troffe gnidrocca__________', 'yam eb nroo___________________', 'eht nairebil ymonoce__________', 'dellac aacarromedlaacos a slop', 'larutlucirga rotces setubirtno', 'lebon eeirp etaerual__________', 'orer oot gro__________________']\n",
      "0.26271853\n",
      "['saw siuol dnamra______________', 'eas dna eht___________________', 'dna aronoel fo________________', 'enoh oot fo___________________', 'ereht si a____________________', 'decudorp ssaa sratiug_________', 'rof eno eerht_________________', 'eno b recnal__________________', 'leuf si detaeh________________', 'erutarepmet t c_______________', 'hcram eno evif________________', 'dnuof neeeteb eht_____________', 'i od ton______________________', 'spuc ni eno___________________', 'netfo desserpre sa____________', 'owt eno thgie_________________', 'od ton ssensseldees___________', 'einam nietsleda  u____________', 'tnediserp eedandraaehs s______', 'nrehtron norul ni_____________', 'tseb trohs yrots______________', 'a eolloh llehs________________', 'sa tenodif evah_______________', 'yad eht rotcod________________', 'eno oot nenes_________________', 'ot htims yredwoc______________', 'dnuora nwot ro________________', 'dedneped ylivaeh no___________', 'desucca mih fo________________', 'tuoba sis eerht_______________', 'd eno enin____________________', 'sis evif oree_________________']\n",
      "0.2773112\n",
      "['noraa ed natnohal_____________', 'segnahc edam ni_______________', 'eniatiuna ni eno______________', 'sih tsetaerg seitilaun________', 'driht ytrap a_________________', 'del ot eht____________________', 'fo eht tsap___________________', 'b eno b_______________________', 'pu ot sti_____________________', 'elbisrever lamrehtosi noisserp', 's omoto no____________________', 'owt eerht latibro_____________', 'erac ot llacer________________', 'enin evif ruof________________', 'slamiced fo eht_______________', 'owt eerht rorepme_____________', 'ni elbat separg_______________', 'feihc lacidem naicitsitats____', 'pihsredael eht tnemnreeog_____', 'eht senippilihp morf__________', 'eno enin sis__________________', 'tuoba evif orer_______________', 'deniamer etarapes siht________', 'soramer eht tsap______________', 'eno evif thgie________________', 'dah eht tfig__________________', 'desserd pu htii_______________', 'eht tropoe fo_________________', 'yllagelli gnisu retnuoc_______', 'neves fo latot________________', 'orer sis eno__________________', 'owt segami dna________________']\n"
     ]
    },
    {
     "name": "stdout",
     "output_type": "stream",
     "text": [
      "0.27457944\n",
      "['ni sih suaevuon_______________', 'eht tolp erew_________________', 'owt oree thgie________________', 'noitaaresbo dna eht___________', 'rotaidem ohw setatilicaf______', 'daerpsedii esu fo_____________', 'eno ruof snosaes______________', 'recnal no ffoehat_____________', 'hsalf tniop dna_______________', 'fo eht sag____________________', 'hcram eno nenes_______________', 'ecnanoser htii enutpen________', 'ereht tlewd ton_______________', 'revo laertnom nehe____________', 'orue rof elpmaae______________', 'nitsuaf i fo__________________', 'stluser morf eht______________', 'eno enin eno__________________', 'sah sselehtenon dediug________', 'eht gninnigeb fo______________', 'thgie ytic no_________________', 'orer selim  ciht______________', 'hteorg si netfo_______________', 'si rehtona yrtnuoc____________', 'sis omirp raaurt______________', 'fo gnitalsnart tneicna________', 'a ecin ibo____________________', 'nori ero erofeb_______________', 'ecnegilletni secivres rof_____', 'emocni rof eht________________', 'thgie sis owt_________________', 'noitpircsed ta upc____________']\n",
      "0.25816563\n",
      "['segaioo snad l________________', 'lacipit fo eht________________', 'ees osla sgnio________________', 'sisilana fo erutan____________', 'eht noituloser ssecorp________', 'eht mret rednef_______________', 'sdnob sdloh tsomla____________', 'morf far drofriaf_____________', 'neht erif tniop_______________', 'ta eht dloc___________________', 'dna a maet____________________', 'detalupop yb sonitulp_________', 'os gnol oga___________________', 'ssah namesnefed guod__________', 'orer oree evif________________', 'eht eripme fo_________________', 'noitroba fo eht_______________', 'sis eno enin__________________', 'eht ymonoce ot________________', 'dlrow raw ii__________________', 'eht egde fo___________________', 'owt renni cirtnecnoc__________', 'detubirtta ot eht_____________', 'eno enin thgie________________', 'nainevols tnatsetorp remrofer_', 'stnemucod sa llee_____________', 'rof a tnaruatser______________', 'eno enin enin_________________', 'lacitilop snosaer esoht_______', 'larur noitalupop uis__________', 'ruhtra relltinhcs nairtsua____', 'noitcelloc ed tsil____________']\n",
      "0.2716513\n",
      "['ma eunir elanoirtnetpes_______', 'seires ni eht_________________', 'fo lagutrop ylimaf____________', 'ylrae noitacude ta____________', 'tub seod ton__________________', 'ssaa ot ebircsed______________', 'yreve rooam eugael____________', 'b eno b_______________________', 'elbammalf sesag trats_________', 'erutarepmet t c_______________', 'del yb ronaele________________', 'dna eht eno___________________', 'a nameltneg fo________________', 'yevrah detcerider a___________', 'rehtar naht evif______________', 'itiah eno thgie_______________', 'cinoyrbme tnalp taht__________', 'enin owt naaitsirhc___________', 'evisserpmi sniag gnihsals_____', 'ot sti noisulcnoc_____________', 'reverof tseb citamard_________', 'sllehs dna na_________________', 'ocal fo lartnec_______________', 'neves si tsuu_________________', 'b eno evif____________________', 'sa eht tfig___________________', 'htob deirram dna______________', 'orer airebil osla_____________', 'snoitagella era yltnerruc_____', 'evif fo gnirutcafunam_________', 'tsitamard dna rotarran________', 'fo ois evif___________________']\n",
      "0.27656898\n",
      "['eno neves oree________________', 'mlif srm ydducilligcm_________', 'eert secnerefer eno___________', 'a gnuoy ega___________________', 'esopmi a noituloser___________', 'eht tnemurtsni retfa__________', 'drocer ni ecnetsiie___________', 'ta tair owt___________________', 'gnieb devlove ni______________', 'lamrehtosi taeh noitceher_____', 'nileh morf segami_____________', 'owt ecnanoser eht_____________', 'eht epyt tnow_________________', 'ynot ociwsel tohs_____________', 'ro evif c_____________________', 'ruof neves eno________________', 'si decudorp yb________________', 'dranraa gnireenoip traeh______', 'noitalfni gniteem tsom________', 'eh deniamer ni________________', 'noitatneserp eno enin_________', 'tsomrenni eroc tuoba__________', 'noitartsinimda hcihw swolla___', 'eht elsi fo___________________', 'orer thgie eno________________', 'fo gni row htii_______________', 'deirramnu nemow yam___________', 'detropoe rebbur dna___________', 'gnieb detagitsevni yb_________', 'rotces s war__________________', 'd eno enin____________________', 'orer owt erawtfos_____________']\n",
      "0.24866043\n",
      "['eerht erehe eh________________', 'nseod t ees___________________', 'eno thgie evif________________', 'duag deretne a________________', 'no eht seitrap________________', 'eht tnenimorp tsissab_________', 'rof lanoitnetni solaw_________', 'orer oree ruof________________', 'a ssecorp ralimis_____________', 'c ot d________________________', 'no hcram eno__________________', 'margaid setartsulli regral____', 'ot peeh na____________________', 'otni sih nwo__________________', 'sa a tluser___________________', 'thgie evif enin_______________', 'noitaeilitref a nonemonehp____', 'noegrus eno enin______________', 'fmi stegrat hguorht___________', 'oidar tcatnoc htii____________', 'sis thgie suoregnad___________', 'eht sretemaid fo______________', 'cinagro htworg fo_____________', 'thgii secnerefer drasnah______', 'evif enin thgie_______________', 'eht dor fo____________________', 'raew nomoo ode________________', 'taht gnitropoe sah____________', 'a laiceps esuoh_______________', 'slairetam dna yletamiiorppa___', 'eerht eno eno_________________', 'srotalume sis evif____________']\n",
      "0.31434238\n",
      "['debircsed eht suonegidni______', 'gnihtyna esuaceb ereht________', 'shtrib eno owt________________', 'yresrun loohcs iralu rap______', 'ni noitartibra noitapicitrap__', 'lorac eya  dehsilbup__________', 'htiw ruof ni__________________', 'ralupop erutluc egatoof_______', 'ot yrd noitallitsid___________', 'no margaid won________________', 'enin eht yrevocsid____________', 'sonawebuc htiw imes___________', 'desunu ecnal na_______________', 'ten dna eno___________________', 'eht snoitaiverbba reffid______', 'rorepme nailimiiam fo_________', 'nwono sa ypracomrepsonets_____', 'owt owt owt___________________', 'sti yluu eno__________________', 'su secrof roirp_______________', 'snoisiv laiceps drawa_________', 'eht stenalp sunev_____________', 'eht orowten sa________________', 'yadsendew eno ruof____________', 'maharba suiletro hsimelf______', 'erutan hcihw dluoo____________', 'nomoo ode nomoo_______________', 'demuser won taht______________', 'yriunni noissimmoc n p________', 'thgie neves fo________________', 'thgie enin oree_______________', 'orer owt rotalumis____________']\n",
      "0.25885612\n",
      "['nacirema yteicos hcihw________', 'si on srm_____________________', 'eerht eerht shtaed____________', 'rednu eht noitcurtsni_________', 'si yliranidro yratnuloo_______', 'reh ralupop ssab______________', 'a enin gninni_________________', 'tohs morf eht_________________', 'noitallitsid esahp ro_________', 'eht sgnidnuorrus od___________', 'egami evag eht________________', 'rooam siia no_________________', 'dlo dleihs a__________________', 'enin evif evif________________', 'neewteb enoeorue srebmem______', 'eht dnoces naciiem____________', 'hcihw seriuner lamron_________', 'oree oree eno_________________', 'enin enin thgie_______________', 'ot eht noisavni_______________', 'eno enin sis__________________', 'sram dna yrucrem______________', 'llew sa eht___________________', 'ht rebmevon owt_______________', 'nrob rehpargotrac b___________', 'wolla mih ot__________________', 'si a epyt_____________________', 'eht seitilitsoh evah__________', 'nelro noitagitsevni noissimmoc', 'latot tnemyolpme laicnanif____', 'enirehtaa enna retrop_________', 'rof swodniw elppa_____________']\n",
      "0.2677372\n",
      "['dah on etats__________________', 'ydducilligcm ssim elpram______', 'eseugutrop shcranom osnofa____', 'fo csecnarf reugnereb_________', 'dna ereht si__________________', 'lanoitcurtsni  oob ni_________', 'emag owt oree_________________', 'liat fo a_____________________', 'suoesag esahp nehw____________', 'orow no eht___________________', 'tsrif tnih taht_______________', 's siia eht____________________', 'dnuohyerg rof gnicar__________', 'osla revo laertnom____________', 'eht tsom desu_________________', 'eripme eno thgie______________', 'noitanillop dna noitaeilitref_', 'retep nothgieb tsiciteneg_____', 'weiver dna gniifilaun_________', 'fo neyagnil flug______________', 'thgie eht tsaeb_______________', 'serehpsomta etarapes eseht____', 'non yrateirporp nepo__________', 'oree oree eno_________________', 'eno evif owt__________________', 'nrecsid dog s_________________', 'fo nomoo deeiretcarahc________', 'dedne eht gnol________________', 'rellim s tnemnrevog___________', 'htlaew si yllareneg___________', 'nacirema rohtua d_____________', 'i srenwo bulc_________________']\n"
     ]
    }
   ],
   "source": [
    "for batch in range(100):\n",
    "    batches,seqlen,labels = train_batches._next_batch()\n",
    "    fd = {encoder_inputs: batches, decoder_inputs: labels, decoder_targets: labels}\n",
    "    _, l, prediction = sess.run([train_op, loss,decoder_prediction], fd)\n",
    "    print(l)\n",
    "    print(batches2string(prediction))"
   ]
  },
  {
   "cell_type": "code",
   "execution_count": null,
   "metadata": {},
   "outputs": [],
   "source": []
  }
 ],
 "metadata": {
  "kernelspec": {
   "display_name": "Python 3",
   "language": "python",
   "name": "python3"
  },
  "language_info": {
   "codemirror_mode": {
    "name": "ipython",
    "version": 3
   },
   "file_extension": ".py",
   "mimetype": "text/x-python",
   "name": "python",
   "nbconvert_exporter": "python",
   "pygments_lexer": "ipython3",
   "version": "3.6.6"
  }
 },
 "nbformat": 4,
 "nbformat_minor": 2
}
